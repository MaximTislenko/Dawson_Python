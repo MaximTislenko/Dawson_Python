{
  "nbformat": 4,
  "nbformat_minor": 0,
  "metadata": {
    "colab": {
      "provenance": [],
      "authorship_tag": "ABX9TyOmI0T7/+73OUNvqfCQR9SD",
      "include_colab_link": true
    },
    "kernelspec": {
      "name": "python3",
      "display_name": "Python 3"
    },
    "language_info": {
      "name": "python"
    }
  },
  "cells": [
    {
      "cell_type": "markdown",
      "metadata": {
        "id": "view-in-github",
        "colab_type": "text"
      },
      "source": [
        "<a href=\"https://colab.research.google.com/github/MaximTislenko/Dawson_Python/blob/main/Sh_04_new_03.ipynb\" target=\"_parent\"><img src=\"https://colab.research.google.com/assets/colab-badge.svg\" alt=\"Open In Colab\"/></a>"
      ]
    },
    {
      "cell_type": "markdown",
      "source": [
        "## Loopy_String.py\n"
      ],
      "metadata": {
        "id": "TZHxQp9MlbcH"
      }
    },
    {
      "cell_type": "code",
      "execution_count": null,
      "metadata": {
        "id": "VN63GuROjIRe"
      },
      "outputs": [],
      "source": [
        "# Слово по буквам\n",
        "# Демонстрирует применение цикла for к строке\n",
        "\n",
        "word = input(\"Введите слово: \")\n",
        "\n",
        "print(\"\\nВот все буквы вашего слова по порядку:\")\n",
        "for letter in word:\n",
        "    print(letter)\n",
        "\n",
        "input(\"\\n\\nНажмите Enter чтобы выйти.\")"
      ]
    },
    {
      "cell_type": "markdown",
      "source": [
        "## Counter.py"
      ],
      "metadata": {
        "id": "aCdVrR8Dm1xH"
      }
    },
    {
      "cell_type": "code",
      "source": [
        "# Считалка\n",
        "# Демонстрируетиспользование функции range()\n",
        "\n",
        "print(\"Посчитаем:\")\n",
        "for i in range(11):\n",
        "    print(i, end=\" \")\n",
        "\n",
        "print(\"\\n\\nПеречислим кратные пяти:\")\n",
        "for i in range(0, 55, 5):\n",
        "    print(i, end=\" \")\n",
        "\n",
        "print(\"\\n\\nПосчитаем в обратном порядке:\")\n",
        "for i in range(10, -1, -1):\n",
        "    print(i, end=\" \")\n",
        "\n",
        "input(\"\\n\\nНажмите Enter чтобы выйти.\")"
      ],
      "metadata": {
        "colab": {
          "base_uri": "https://localhost:8080/",
          "height": 209
        },
        "id": "QVxNyU0Rm7sO",
        "outputId": "04218bb5-7070-47a6-c88e-bb792f822ffd"
      },
      "execution_count": null,
      "outputs": [
        {
          "name": "stdout",
          "output_type": "stream",
          "text": [
            "Посчитаем:\n",
            "0 1 2 3 4 5 6 7 8 9 10 \n",
            "\n",
            "Перечислим кратные пяти:\n",
            "0 5 10 15 20 25 30 35 40 45 50 \n",
            "\n",
            "Посчитаем в обратном порядке:\n",
            "10 9 8 7 6 5 4 3 2 1 0 \n",
            "\n",
            "Нажмите Enter чтобы выйти.\n"
          ]
        },
        {
          "output_type": "execute_result",
          "data": {
            "text/plain": [
              "''"
            ],
            "application/vnd.google.colaboratory.intrinsic+json": {
              "type": "string"
            }
          },
          "metadata": {},
          "execution_count": 4
        }
      ]
    },
    {
      "cell_type": "markdown",
      "source": [
        "## Message_Analyzer.py"
      ],
      "metadata": {
        "id": "Swq_WQKEoyvG"
      }
    },
    {
      "cell_type": "code",
      "source": [
        "# Анализатор текста\n",
        "# Демонстрирует работу функции len() и оператора in\n",
        "\n",
        "message = input(\"Введите текст: \")\n",
        "\n",
        "print(\"\\nДлина введенного вами текста:\", len(message))\n",
        "\n",
        "print(\"\\nСамая частая согласная, 'т',\")\n",
        "if \"т\" in message: # Если элемент \"т\" член последовательности message, то условие истино(True), если не член - ложь (False)\n",
        "    print(\"встречается в вашем тексте.\")\n",
        "else:\n",
        "    print(\"не встречается в вашем тексте.\")\n",
        "\n",
        "input(\"\\n\\nНажмите Enter чтобы выйти.\")"
      ],
      "metadata": {
        "colab": {
          "base_uri": "https://localhost:8080/",
          "height": 192
        },
        "id": "n1CRW5T4o1Ye",
        "outputId": "6e808fc6-c93b-4f8d-f1ee-c97c3cb29e02"
      },
      "execution_count": null,
      "outputs": [
        {
          "name": "stdout",
          "output_type": "stream",
          "text": [
            "Введите текст: я пришел сегодня на работу в восемь часов\n",
            "\n",
            "Длина введенного вами текста: 41\n",
            "\n",
            "Самая частая согласная, 'т',\n",
            "встречается в вашем тексте.\n",
            "\n",
            "\n",
            "Нажмите Enter чтобы выйти.\n"
          ]
        },
        {
          "output_type": "execute_result",
          "data": {
            "text/plain": [
              "''"
            ],
            "application/vnd.google.colaboratory.intrinsic+json": {
              "type": "string"
            }
          },
          "metadata": {},
          "execution_count": 5
        }
      ]
    },
    {
      "cell_type": "markdown",
      "source": [
        "## Random_Access.py"
      ],
      "metadata": {
        "id": "2ARVOV54IKUZ"
      }
    },
    {
      "cell_type": "code",
      "source": [
        "# Случайные буквы\n",
        "# Демонстрирует индексацию строк\n",
        "\n",
        "import random\n",
        "\n",
        "word = \"индекс\"\n",
        "print(\"В переменной word хранится слово: \", word, \"\\n\")\n",
        "\n",
        "high = len(word)\n",
        "low = -len(word)\n",
        "\n",
        "for i in range(10):\n",
        "    position = random.randrange(low, high)\n",
        "    print(\"word[\", position, \"]\\t\", word[position])\n",
        "\n",
        "input(\"\\n\\nНажмите Enter чтобы выйти.\")"
      ],
      "metadata": {
        "id": "ptLboGWgIL9x",
        "outputId": "085ff11d-d62d-4691-fea5-0fe769d31bcf",
        "colab": {
          "base_uri": "https://localhost:8080/",
          "height": 296
        }
      },
      "execution_count": null,
      "outputs": [
        {
          "name": "stdout",
          "output_type": "stream",
          "text": [
            "В переменной word хранится слово:  индекс \n",
            "\n",
            "word[ 4 ]\t к\n",
            "word[ 3 ]\t е\n",
            "word[ 0 ]\t и\n",
            "word[ -3 ]\t е\n",
            "word[ -6 ]\t и\n",
            "word[ -2 ]\t к\n",
            "word[ 2 ]\t д\n",
            "word[ 1 ]\t н\n",
            "word[ -3 ]\t е\n",
            "word[ 3 ]\t е\n",
            "\n",
            "\n",
            "Нажмите Enter чтобы выйти.\n"
          ]
        },
        {
          "output_type": "execute_result",
          "data": {
            "text/plain": [
              "''"
            ],
            "application/vnd.google.colaboratory.intrinsic+json": {
              "type": "string"
            }
          },
          "metadata": {},
          "execution_count": 1
        }
      ]
    },
    {
      "cell_type": "markdown",
      "source": [
        "## No_Vowels.py"
      ],
      "metadata": {
        "id": "qYKDuUwiRm45"
      }
    },
    {
      "cell_type": "code",
      "source": [
        "# Только согласные\n",
        "# Демонстрирует, как создавать новые строки из исходных с помощью цикла for\n",
        "\n",
        "message = input(\"Введите текст: \")\n",
        "new_message = \"\"\n",
        "VOWELS = \"aeiouауоиэыяюеё\"\n",
        "\n",
        "print()\n",
        "for letter in message:\n",
        "    if letter.lower() not in VOWELS:\n",
        "        new_message += letter\n",
        "        print(\"Создана новая строка:\", new_message)\n",
        "\n",
        "print(\"\\nВот наш текстс изъятыми гласным буквами:\", new_message)\n",
        "\n",
        "input(\"\\n\\nНажмите Enter чтобы выйти.\")"
      ],
      "metadata": {
        "id": "1jcLbkLDRo5f"
      },
      "execution_count": null,
      "outputs": []
    },
    {
      "cell_type": "markdown",
      "source": [],
      "metadata": {
        "id": "Wy9Y8Cw7U_EY"
      }
    },
    {
      "cell_type": "markdown",
      "source": [
        "## Pizza_Slicer.py"
      ],
      "metadata": {
        "id": "OWJQDxG-8sUA"
      }
    },
    {
      "cell_type": "code",
      "source": [
        "# Резчик пиццы\n",
        "# Демонстрирует срезы строк\n",
        "\n",
        "word = \"пицца\"\n",
        "\n",
        "print(\n",
        "\"\"\"\n",
        "  Памятка\n",
        "\n",
        "  0   1   2   3   4   5\n",
        "  +---+---+---+---+---+\n",
        "  | п | и | ц | ц | а |\n",
        "  +---+---+---+---+---+\n",
        " -5  -4  -3  -2  -1\n",
        "\n",
        "\"\"\"\n",
        ")\n",
        "\n",
        "print(\"Введите начальный и конечный индексы для того среза'пиццы', который хотите получить.\")\n",
        "print(\"Для выхода нажмите Enter, не вводя начальную позицию.\")\n",
        "start = None\n",
        "while start != \"\":\n",
        "    start = (input(\"\\nНачальная позиция: \"))\n",
        "\n",
        "    if start:\n",
        "        start = int(start)\n",
        "\n",
        "        finish = int(input(\"Конечная позиция: \"))\n",
        "\n",
        "        print(\" Срез word[\", start, \":\", finish, \"] выглядит кака\", end=\" \")\n",
        "        print(word[start:finish])\n",
        "\n",
        "input(\"\\n\\nНажмите Enter чтобы выйти.\")"
      ],
      "metadata": {
        "id": "3w9jeNpR8xpX",
        "outputId": "81e5d093-6af2-4009-fc7e-4bbbb5928b37",
        "colab": {
          "base_uri": "https://localhost:8080/",
          "height": 539
        }
      },
      "execution_count": null,
      "outputs": [
        {
          "name": "stdout",
          "output_type": "stream",
          "text": [
            "\n",
            "  Памятка\n",
            "\n",
            "  0   1   2   3   4   5\n",
            "  +---+---+---+---+---+\n",
            "  | п | и | ц | ц | а |\n",
            "  +---+---+---+---+---+\n",
            " -5  -4  -3  -2  -1\n",
            "\n",
            "\n",
            "Введите начальный и конечный индексы для того среза'пиццы', который хотите получить.\n",
            "Для выхода нажмите Enter, не вводя начальную позицию.\n",
            "\n",
            "Начальная позиция: 1\n",
            "Конечная позиция: -2\n",
            " Срез word[ 1 : -2 ] выглядит кака иц\n",
            "\n",
            "Начальная позиция: 0\n",
            "Конечная позиция: 5\n",
            " Срез word[ 0 : 5 ] выглядит кака пицца\n",
            "\n",
            "Начальная позиция:  -4\n",
            "Конечная позиция: -1\n",
            " Срез word[ -4 : -1 ] выглядит кака ицц\n",
            "\n",
            "Начальная позиция: \n",
            "\n",
            "\n",
            "Нажмите Enter чтобы выйти.\n"
          ]
        },
        {
          "output_type": "execute_result",
          "data": {
            "text/plain": [
              "''"
            ],
            "application/vnd.google.colaboratory.intrinsic+json": {
              "type": "string"
            }
          },
          "metadata": {},
          "execution_count": 3
        }
      ]
    },
    {
      "cell_type": "markdown",
      "source": [
        "## Hero's_Inventory.py"
      ],
      "metadata": {
        "id": "YQc8X-2zDydq"
      }
    },
    {
      "cell_type": "code",
      "source": [
        "# Арсенал героя\n",
        "# Демонстрирует создание кортежа\n",
        "\n",
        "# создадим пустой кортеж\n",
        "inventory = ()\n",
        "\n",
        "# рассмотрим его как условие\n",
        "if not inventory:\n",
        "    print(\"Вы безоружны.\")\n",
        "\n",
        "input(\"\\n\\nНажмите Enter чтобы продолжить.\")\n",
        "\n",
        "# теперь создадим кортеж с несколькими элементами\n",
        "inventory = (\"меч\",\n",
        "             \"кольчуга\",\n",
        "             \"щит\",\n",
        "             \"целебное снадобье\")\n",
        "\n",
        "# выведем этот кортеж на экран\n",
        "print(\"\\nСодержимое кортежа:\")\n",
        "print(inventory)\n",
        "\n",
        "# выведем все элементы последовательно\n",
        "print(\"Итак, в вашем арсенале:\")\n",
        "for item in inventory:\n",
        "    print(item)\n",
        "\n",
        "\n",
        "input(\"\\n\\nНажмите Enter чтобы выйти.\")"
      ],
      "metadata": {
        "id": "q-vu79R2D08K",
        "outputId": "a81ff898-5bd5-4c41-db30-d5997ef50c86",
        "colab": {
          "base_uri": "https://localhost:8080/",
          "height": 296
        }
      },
      "execution_count": null,
      "outputs": [
        {
          "name": "stdout",
          "output_type": "stream",
          "text": [
            "Вы безоружны.\n",
            "\n",
            "\n",
            "Нажмите Enter чтобы продолжить.\n",
            "\n",
            "Содержимое кортежа:\n",
            "('меч', 'кольчуга', 'щит', 'целебное снадобье')\n",
            "Итак, в вашем арсенале:\n",
            "меч\n",
            "кольчуга\n",
            "щит\n",
            "целебное снадобье\n",
            "\n",
            "\n",
            "Нажмите Enter чтобы выйти.\n"
          ]
        },
        {
          "output_type": "execute_result",
          "data": {
            "text/plain": [
              "''"
            ],
            "application/vnd.google.colaboratory.intrinsic+json": {
              "type": "string"
            }
          },
          "metadata": {},
          "execution_count": 4
        }
      ]
    },
    {
      "cell_type": "markdown",
      "source": [
        "## Hero's_Inventory_2.0.py"
      ],
      "metadata": {
        "id": "r4w4e6gDh3p4"
      }
    },
    {
      "cell_type": "code",
      "source": [
        "# Арсенал героя 2.0\n",
        "# Демонстрирует работу с кортежами\n",
        "\n",
        "# создадим кортеж с несколькими элементами и выведем его с помощью цикла for\n",
        "inventory = (\"меч\",\n",
        "             \"кольчуга\",\n",
        "             \"щит\",\n",
        "             \"целебное снадобье\")\n",
        "print(\"Итак, в вашем арсенале:\")\n",
        "for item in inventory:\n",
        "    print(\"\\t\", item)\n",
        "\n",
        "input(\"\\n\\nНажмите Enter чтобы продолжить.\")\n",
        "\n",
        "# найдем длину кортежа\n",
        "print(\"\\nСейчас в вашем рапоряжении\", len(inventory), \"предмета/-ов.\")\n",
        "\n",
        "input(\"\\n\\nНажмите Enter чтобы продолжить.\")\n",
        "\n",
        "# проверка на принадлежность к кортежу с помощью in\n",
        "if \"целебное снадобье\" in inventory:\n",
        "    print(\"Вы ещё поживете и повоюете.\")\n",
        "\n",
        "# вывод одного элемента с определенным индексом\n",
        "index = int(input(\"\\nВведите индекс индекс одного из предметов арсенала: \"))\n",
        "print(\"\\nПод индексом\", index, \"в асенале находится\", inventory[index])\n",
        "\n",
        "# Отобразим срез\n",
        "start = int(input(\"\\nВведите начальный индекс среза: \"))\n",
        "finish = int(input(\"Введите конечный индекс среза: \"))\n",
        "print(\"Срез inventory[\", start, \":\", finish, \"] - Это\", end = \" \")\n",
        "print(inventory[start:finish])\n",
        "\n",
        "input(\"\\n\\nНажмите Enter чтобы продолжить.\")\n",
        "\n",
        "# соединим два кортежа\n",
        "chest = (\"золото\", \"драгоценные камни\")\n",
        "print(\"\\nВы нашли ларец. Вот что в нем лежит:\")\n",
        "print(chest)\n",
        "print(\"\\nВы приобщили содержимое ларца к своему арсеналу.\")\n",
        "inventory += chest\n",
        "print(\"Теперь в вашем распоряжении:\")\n",
        "print(inventory)\n",
        "\n",
        "input(\"\\n\\nНажмите Enter чтобы выйти.\")"
      ],
      "metadata": {
        "id": "BWZXP0rYh8E4",
        "outputId": "4e7c57a2-0120-42ce-f129-77487c475b2d",
        "colab": {
          "base_uri": "https://localhost:8080/",
          "height": 643
        }
      },
      "execution_count": null,
      "outputs": [
        {
          "name": "stdout",
          "output_type": "stream",
          "text": [
            "Итак, в вашем арсенале:\n",
            "\t меч\n",
            "\t кольчуга\n",
            "\t щит\n",
            "\t целебное снадобье\n",
            "\n",
            "\n",
            "Нажмите Enter чтобы продолжить.\n",
            "\n",
            "Сейчас в вашем рапоряжении 4 предмета/-ов.\n",
            "\n",
            "\n",
            "Нажмите Enter чтобы продолжить.\n",
            "Вы ещё поживете и повоюете.\n",
            "\n",
            "Введите индекс индекс одного из предметов арсенала: 2\n",
            "\n",
            "Под индексом 2 в асенале находится щит\n",
            "\n",
            "Введите начальный индекс среза: 0\n",
            "Введите конечный индекс среза: -1\n",
            "Срез inventory[ 0 : -1 ] - Это ('меч', 'кольчуга', 'щит')\n",
            "\n",
            "\n",
            "Нажмите Enter чтобы продолжить.\n",
            "\n",
            "Вы нашли ларец. Вот что в нем лежит:\n",
            "('золото', 'драгоценные камни')\n",
            "\n",
            "Вы приобщили содержимое ларца к своему арсеналу.\n",
            "Теперь в вашем распоряжении:\n",
            "('меч', 'кольчуга', 'щит', 'целебное снадобье', 'золото', 'драгоценные камни')\n",
            "\n",
            "\n",
            "Нажмите Enter чтобы выйти.\n"
          ]
        },
        {
          "output_type": "execute_result",
          "data": {
            "text/plain": [
              "''"
            ],
            "application/vnd.google.colaboratory.intrinsic+json": {
              "type": "string"
            }
          },
          "metadata": {},
          "execution_count": 7
        }
      ]
    },
    {
      "cell_type": "markdown",
      "source": [
        "## Word_Jumble.py"
      ],
      "metadata": {
        "id": "28DfqO3CnOVZ"
      }
    },
    {
      "cell_type": "code",
      "source": [
        "# Анаграммы (Word Jumble)\n",
        "# Компьютер выбирает какое-либо слово и хаотически переставляет его буквы\n",
        "# Задача игрока - восстановить исходное слово\n",
        "\n",
        "import random\n",
        "\n",
        "# создадим последовательность слов, из которых компьютер будет выбирать\n",
        "WORDS = (\"питон\", \"анаграмма\", \"простая\", \"сложная\", \"ответ\", \"подстаканник\")\n",
        "\n",
        "# случайным образом выберем из последовательности одно слово\n",
        "word = random.choice(WORDS)\n",
        "\n",
        "# создадим переменную, с которой будет затем сопоставлена версия игрока\n",
        "correct = word\n",
        "\n",
        "# создадим анаграмму выбраного слова, в которой буквы будут расставлены хаотично\n",
        "jumble = ''\n",
        "while word:\n",
        "    position = random.randrange(len(word))\n",
        "    jumble += word[position]\n",
        "    word = word[:position] + word[(position + 1):]\n",
        "\n",
        "# начало игры\n",
        "print(\n",
        "\"\"\"\n",
        "            Добро пожаловать в игру \"Анаграммы\"!\n",
        "\n",
        "    Надо переставить буквы так, чтобы получилось осмысленное слово\n",
        "(Для выхода нажмите Enter, не вводя своей версии.)\n",
        "\"\"\"\n",
        ")\n",
        "print(\"Вот анаграмма:\", jumble)\n",
        "\n",
        "guess = input(\"Какое исходное слово?: \")\n",
        "\n",
        "while guess != correct and guess != \"\":\n",
        "    print(\"К сожалению, вы не правы.\\n\")\n",
        "    guess = input(\"Попробуйте снова: \")\n",
        "    guess = guess.lower()\n",
        "\n",
        "if guess == correct:\n",
        "    print(\"Да именно так! Вы отгадали!\\n\")\n",
        "\n",
        "print(\"Спасибо за игру.\")\n",
        "\n",
        "input(\"\\n\\nНажмите Enter чтобы выйти.\")"
      ],
      "metadata": {
        "id": "DMZt73nunTPy",
        "outputId": "dc223557-a29b-4e2e-f2d7-58e78d8b6b66",
        "colab": {
          "base_uri": "https://localhost:8080/",
          "height": 331
        }
      },
      "execution_count": 2,
      "outputs": [
        {
          "name": "stdout",
          "output_type": "stream",
          "text": [
            "\n",
            "            Добро пожаловать в игру \"Анаграммы\"!\n",
            "\n",
            "    Надо переставить буквы так, чтобы получилось осмысленное слово\n",
            "(Для выхода нажмите Enter, не вводя своей версии.)\n",
            "\n",
            "Вот анаграмма: оспярат\n",
            "Какое исходное слово?: пр\n",
            "К сожалению, вы не правы.\n",
            "\n",
            "Попробуйте снова: простая\n",
            "Да именно так! Вы отгадали!\n",
            "\n",
            "Спасибо за игру.\n",
            "\n",
            "\n",
            "Нажмите Enter чтобы выйти.\n"
          ]
        },
        {
          "output_type": "execute_result",
          "data": {
            "text/plain": [
              "''"
            ],
            "application/vnd.google.colaboratory.intrinsic+json": {
              "type": "string"
            }
          },
          "metadata": {},
          "execution_count": 2
        }
      ]
    },
    {
      "cell_type": "markdown",
      "source": [
        "## Самостоятельная работа"
      ],
      "metadata": {
        "id": "4cqNazXxnJsy"
      }
    },
    {
      "cell_type": "markdown",
      "source": [
        "### Задача №1"
      ],
      "metadata": {
        "id": "uw_cMDGsnSsB"
      }
    },
    {
      "cell_type": "code",
      "source": [
        "# Глава 4, Задача 1\n",
        "# Напишите программу, которая считает для пользователя.\n",
        "# Позвольте пользователю ввести начальное число, а также интервал между называемыми целыми числами.\n",
        "\n",
        "start = int(input(\"От какого числа мне следует отсчитывать: \"))\n",
        "end = int(input(\"До какого числа мне следует считать: \"))\n",
        "\n",
        "while start != end:\n",
        "    print(start)\n",
        "    if start < end:\n",
        "        start = start + 1\n",
        "    if start > end:\n",
        "        start = start - 1\n",
        "\n",
        "print(end)\n",
        "input('Закончено! Нажмите Enter.')"
      ],
      "metadata": {
        "id": "xb_XAoDzznUJ",
        "outputId": "c449b249-c7ce-40ee-d6b1-c9cfbd7a7bab",
        "colab": {
          "base_uri": "https://localhost:8080/",
          "height": 157
        }
      },
      "execution_count": 4,
      "outputs": [
        {
          "name": "stdout",
          "output_type": "stream",
          "text": [
            "От какого числа мне следует отсчитывать: 1\n",
            "До какого числа мне следует считать: 4\n",
            "1\n",
            "2\n",
            "3\n",
            "4\n",
            "Закончено! Нажмите Enter.\n"
          ]
        },
        {
          "output_type": "execute_result",
          "data": {
            "text/plain": [
              "''"
            ],
            "application/vnd.google.colaboratory.intrinsic+json": {
              "type": "string"
            }
          },
          "metadata": {},
          "execution_count": 4
        }
      ]
    },
    {
      "cell_type": "markdown",
      "source": [
        "### Задача №2"
      ],
      "metadata": {
        "id": "vl4mJfH8s5Q0"
      }
    },
    {
      "cell_type": "code",
      "source": [
        "# Глава 4, Задача 2\n",
        "# Создайте программу, которая получает сообщение от пользователя и затем распечатывает его задом наперед.\n",
        "\n",
        "\n",
        "word = input(\"Какое слово вы хотите напечатать задом наперед?? \")\n",
        "backwards = \"\"\n",
        "\n",
        "for i in word:\n",
        "    backwards = i + backwards\n",
        "\n",
        "print(backwards)\n",
        "\n",
        "input(\"\\n\\nНажмите Enter чтобы выйти.\")"
      ],
      "metadata": {
        "id": "sPUDekuc9yGT",
        "outputId": "e4ec4e6c-7afd-455b-8c6b-8694471b9ce0",
        "colab": {
          "base_uri": "https://localhost:8080/",
          "height": 122
        }
      },
      "execution_count": 5,
      "outputs": [
        {
          "name": "stdout",
          "output_type": "stream",
          "text": [
            "Какое слово вы хотите напечатать задом наперед?? папуас\n",
            "саупап\n",
            "\n",
            "\n",
            "Нажмите Enter чтобы выйти.\n"
          ]
        },
        {
          "output_type": "execute_result",
          "data": {
            "text/plain": [
              "''"
            ],
            "application/vnd.google.colaboratory.intrinsic+json": {
              "type": "string"
            }
          },
          "metadata": {},
          "execution_count": 5
        }
      ]
    },
    {
      "cell_type": "markdown",
      "source": [
        "### Задача №3"
      ],
      "metadata": {
        "id": "v0PCbnzFs61c"
      }
    },
    {
      "cell_type": "code",
      "source": [],
      "metadata": {
        "id": "oPCz-1Qc-Zcq"
      },
      "execution_count": null,
      "outputs": []
    },
    {
      "cell_type": "markdown",
      "source": [
        "### Задача №4"
      ],
      "metadata": {
        "id": "WK78RmZIs85c"
      }
    }
  ]
}