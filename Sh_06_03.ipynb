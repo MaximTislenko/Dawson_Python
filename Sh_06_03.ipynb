{
  "nbformat": 4,
  "nbformat_minor": 0,
  "metadata": {
    "colab": {
      "provenance": [],
      "authorship_tag": "ABX9TyMqIAplHCkIYJbhXXYP4q8s",
      "include_colab_link": true
    },
    "kernelspec": {
      "name": "python3",
      "display_name": "Python 3"
    },
    "language_info": {
      "name": "python"
    }
  },
  "cells": [
    {
      "cell_type": "markdown",
      "metadata": {
        "id": "view-in-github",
        "colab_type": "text"
      },
      "source": [
        "<a href=\"https://colab.research.google.com/github/MaximTislenko/Dawson_Python/blob/main/Sh_06_03.ipynb\" target=\"_parent\"><img src=\"https://colab.research.google.com/assets/colab-badge.svg\" alt=\"Open In Colab\"/></a>"
      ]
    },
    {
      "cell_type": "markdown",
      "source": [
        "## Instructions.py"
      ],
      "metadata": {
        "id": "1jXTGC0jNbhr"
      }
    },
    {
      "cell_type": "code",
      "source": [
        "# Инструкция\n",
        "# Демонстрирует, как создавать собственные функции\n",
        "\n",
        "def instructions():\n",
        "    \"\"\"Выводит на экран инструкцию для игрока\"\"\" # Docstring\n",
        "    print(\"\"\"\n",
        "    Добро пожаловать на ринг грандиознейших интеллектуальных состязаний всех времен.\n",
        "    Твой мозг и мой процессор сойдутся в схватке за доской игры \"Крестики-нолики\"\n",
        "    Чтобы сделать ход, введи число от 0 до 8. Числа однозначно соответствуютполям\n",
        "    доски - так, как показано ниже:\n",
        "\n",
        "\n",
        "\n",
        "                    0 | 1 | 2\n",
        "                    ---------\n",
        "                    3 | 4 | 5\n",
        "                    ---------\n",
        "                    6 | 7 | 8\n",
        "\n",
        "    Приготовся к бою, жалкий белковый человечишка. Вот-вот начнется\n",
        "    решающее сражение. \\n\n",
        "    \"\"\"\n",
        "          )\n",
        "\n",
        "# основная часть\n",
        "print(\"Это инструкция для игры 'Крестики-нолики':\")\n",
        "instructions()\n",
        "print(\"Это опять та же самая инструкция:\")\n",
        "instructions()\n",
        "print(\"Надеюсь, теперь смысл игры ясен.\")\n",
        "\n",
        "input(\"\\n\\nНажмите Enter, чтобы выйти.\")"
      ],
      "metadata": {
        "id": "LTwiD72ANkoq",
        "outputId": "9b4b2267-a8af-467b-d737-3cc3a4a5f0d6",
        "colab": {
          "base_uri": "https://localhost:8080/",
          "height": 764
        }
      },
      "execution_count": null,
      "outputs": [
        {
          "name": "stdout",
          "output_type": "stream",
          "text": [
            "Это инструкция для игры 'Крестики-нолики':\n",
            "\n",
            "    Добро пожаловать на ринг грандиознейших интеллектуальных состязаний всех времен.\n",
            "    Твой мозг и мой процессор сойдутся в схватке за доской игры \"Крестики-нолики\"\n",
            "    Чтобы сделать ход, введи число от 0 до 8. Числа однозначно соответствуютполям\n",
            "    доски - так, как показано ниже:\n",
            "    \n",
            "    \n",
            "    \n",
            "                    0 | 1 | 2\n",
            "                    ---------\n",
            "                    3 | 4 | 5\n",
            "                    ---------\n",
            "                    6 | 7 | 8\n",
            "\n",
            "    Приготовся к бою, жалкий белковый человечишка. Вот-вот начнется \n",
            "    решающее сражение. \n",
            "\n",
            "    \n",
            "Это опять та же самая инструкция:\n",
            "\n",
            "    Добро пожаловать на ринг грандиознейших интеллектуальных состязаний всех времен.\n",
            "    Твой мозг и мой процессор сойдутся в схватке за доской игры \"Крестики-нолики\"\n",
            "    Чтобы сделать ход, введи число от 0 до 8. Числа однозначно соответствуютполям\n",
            "    доски - так, как показано ниже:\n",
            "    \n",
            "    \n",
            "    \n",
            "                    0 | 1 | 2\n",
            "                    ---------\n",
            "                    3 | 4 | 5\n",
            "                    ---------\n",
            "                    6 | 7 | 8\n",
            "\n",
            "    Приготовся к бою, жалкий белковый человечишка. Вот-вот начнется \n",
            "    решающее сражение. \n",
            "\n",
            "    \n",
            "Надеюсь, теперь смысл игры ясен.\n",
            "\n",
            "\n",
            "Нажмите Enter, чтобы выйти.\n"
          ]
        },
        {
          "output_type": "execute_result",
          "data": {
            "text/plain": [
              "''"
            ],
            "application/vnd.google.colaboratory.intrinsic+json": {
              "type": "string"
            }
          },
          "metadata": {},
          "execution_count": 1
        }
      ]
    },
    {
      "cell_type": "code",
      "source": [
        "instructions()"
      ],
      "metadata": {
        "id": "VjAioZsCQGhI",
        "outputId": "0a9c253c-a639-445f-8904-bea5ec688ed6",
        "colab": {
          "base_uri": "https://localhost:8080/"
        }
      },
      "execution_count": null,
      "outputs": [
        {
          "output_type": "stream",
          "name": "stdout",
          "text": [
            "\n",
            "    Добро пожаловать на ринг грандиознейших интеллектуальных состязаний всех времен.\n",
            "    Твой мозг и мой процессор сойдутся в схватке за доской игры \"Крестики-нолики\"\n",
            "    Чтобы сделать ход, введи число от 0 до 8. Числа однозначно соответствуютполям\n",
            "    доски - так, как показано ниже:\n",
            "    \n",
            "    \n",
            "    \n",
            "                    0 | 1 | 2\n",
            "                    ---------\n",
            "                    3 | 4 | 5\n",
            "                    ---------\n",
            "                    6 | 7 | 8\n",
            "\n",
            "    Приготовся к бою, жалкий белковый человечишка. Вот-вот начнется \n",
            "    решающее сражение. \n",
            "\n",
            "    \n"
          ]
        }
      ]
    },
    {
      "cell_type": "markdown",
      "source": [
        "## Receive and Return.py"
      ],
      "metadata": {
        "id": "QgfDBOIfQrqC"
      }
    },
    {
      "cell_type": "code",
      "source": [
        "# Принимай и Возвращай\n",
        "# Демонстрирует параметры и возвращаемые значения\n",
        "\n",
        "def display(message):\n",
        "    print(message)\n",
        "\n",
        "def give_me_five():\n",
        "    five = 5\n",
        "    return five\n",
        "\n",
        "def ask_yes_no(question):\n",
        "    \"\"\"Задает вопрс с ответом 'да' или 'нет'.\"\"\"\n",
        "    response = None\n",
        "    while response not in (\"д\", \"н\"):\n",
        "        response = input(question).lower()\n",
        "    return response\n",
        "\n",
        "# основная часть\n",
        "display(\"Вам сообщение.\\n\")\n",
        "\n",
        "number = give_me_five()\n",
        "print(\"Вот что возвратила функция give_me_five():\", number)\n",
        "\n",
        "answer = ask_yes_no(\"\\nПожалуйста введите 'д' or 'н': \")\n",
        "print(\"Спасибо, что ввели:\", answer)\n",
        "\n",
        "input(\"\\n\\nНажмите Enter, чтобы выйти.\")"
      ],
      "metadata": {
        "id": "q7rZ_fKJQ4N3",
        "outputId": "c67da333-3510-4646-8d4b-867447f59113",
        "colab": {
          "base_uri": "https://localhost:8080/",
          "height": 192
        }
      },
      "execution_count": null,
      "outputs": [
        {
          "name": "stdout",
          "output_type": "stream",
          "text": [
            "Вам сообщение.\n",
            "\n",
            "Вот что возвратила функция give_me_five(): 5\n",
            "\n",
            "Пожалуйста введите 'д' or 'н': д\n",
            "Спасибо, что ввели: д\n",
            "\n",
            "\n",
            "Нажмите Enter, чтобы выйти.\n"
          ]
        },
        {
          "output_type": "execute_result",
          "data": {
            "text/plain": [
              "''"
            ],
            "application/vnd.google.colaboratory.intrinsic+json": {
              "type": "string"
            }
          },
          "metadata": {},
          "execution_count": 4
        }
      ]
    },
    {
      "cell_type": "markdown",
      "source": [
        "## Birthday Wishes.py"
      ],
      "metadata": {
        "id": "OES_F0WEQ3Oj"
      }
    },
    {
      "cell_type": "code",
      "source": [
        "# День рождения\n",
        "# Демонстрирует именованные аргументы и значения параметров по умолчанию\n",
        "\n",
        "# позиционные параметры\n",
        "def birthday1(name, age):\n",
        "    print(\"С днем рождения,\", name, \"!\", \" Вам сегодня исполняется \", age, \" не так ли?\\n\")\n",
        "\n",
        "# параметры со значениями по умолчанию\n",
        "def birthday2(name = 'товарищ Иванов', age = 1):\n",
        "    print(\"С днем рождения,\", name, \"!\",\" Вам сегодня исполняется\", age, \" не так ли?\\n\")\n",
        "\n",
        "\n",
        "birthday1(\"товарищ Иванов\", 1)\n",
        "birthday1(1, \"товарищ Иванов\")\n",
        "birthday1(name = \"товарищ Иванов\", age = 1)\n",
        "birthday1(age = 1, name = \"товарищ Иванов\")\n",
        "\n",
        "birthday2()\n",
        "birthday2(name = \"Катя\")\n",
        "birthday2(age = 12)\n",
        "birthday2(name = \"Катя\", age = 12)\n",
        "birthday2(\"Катя\", 12)\n",
        "\n",
        "input(\"\\n\\nНажмите Enter, чтобы выйти.\")"
      ],
      "metadata": {
        "id": "7K4idawgQ4zi",
        "outputId": "126d0e3f-a2f2-4957-ef6e-13b802cdd93e",
        "colab": {
          "base_uri": "https://localhost:8080/",
          "height": 400
        }
      },
      "execution_count": 1,
      "outputs": [
        {
          "name": "stdout",
          "output_type": "stream",
          "text": [
            "С днем рождения, товарищ Иванов !  Вам сегодня исполняется  1  не так ли?\n",
            "\n",
            "С днем рождения, 1 !  Вам сегодня исполняется  товарищ Иванов  не так ли?\n",
            "\n",
            "С днем рождения, товарищ Иванов !  Вам сегодня исполняется  1  не так ли?\n",
            "\n",
            "С днем рождения, товарищ Иванов !  Вам сегодня исполняется  1  не так ли?\n",
            "\n",
            "С днем рождения, товарищ Иванов !  Вам сегодня исполняется 1  не так ли?\n",
            "\n",
            "С днем рождения, Катя !  Вам сегодня исполняется 1  не так ли?\n",
            "\n",
            "С днем рождения, товарищ Иванов !  Вам сегодня исполняется 12  не так ли?\n",
            "\n",
            "С днем рождения, Катя !  Вам сегодня исполняется 12  не так ли?\n",
            "\n",
            "С днем рождения, Катя !  Вам сегодня исполняется 12  не так ли?\n",
            "\n",
            "\n",
            "\n",
            "Нажмите Enter, чтобы выйти.\n"
          ]
        },
        {
          "output_type": "execute_result",
          "data": {
            "text/plain": [
              "''"
            ],
            "application/vnd.google.colaboratory.intrinsic+json": {
              "type": "string"
            }
          },
          "metadata": {},
          "execution_count": 1
        }
      ]
    }
  ]
}