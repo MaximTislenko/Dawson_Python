{
  "nbformat": 4,
  "nbformat_minor": 0,
  "metadata": {
    "colab": {
      "provenance": [],
      "authorship_tag": "ABX9TyPzLZTDStnlwp/kJ36tv83n",
      "include_colab_link": true
    },
    "kernelspec": {
      "name": "python3",
      "display_name": "Python 3"
    },
    "language_info": {
      "name": "python"
    }
  },
  "cells": [
    {
      "cell_type": "markdown",
      "metadata": {
        "id": "view-in-github",
        "colab_type": "text"
      },
      "source": [
        "<a href=\"https://colab.research.google.com/github/MaximTislenko/Dawson_Python/blob/main/Ch_03_new.ipynb\" target=\"_parent\"><img src=\"https://colab.research.google.com/assets/colab-badge.svg\" alt=\"Open In Colab\"/></a>"
      ]
    },
    {
      "cell_type": "markdown",
      "source": [
        "## Craps_Roller.py"
      ],
      "metadata": {
        "id": "l_3CYgkwfFv7"
      }
    },
    {
      "cell_type": "code",
      "execution_count": 3,
      "metadata": {
        "colab": {
          "base_uri": "https://localhost:8080/",
          "height": 88
        },
        "id": "2XL1kreEbfvO",
        "outputId": "0bc0c929-547b-4bd2-89bc-e7d1501a41f0"
      },
      "outputs": [
        {
          "name": "stdout",
          "output_type": "stream",
          "text": [
            "При вашем броске выпало 5 и 6 очков в сумме 11\n",
            "\n",
            "\\Нажмите Enter чтобы выйти.\n"
          ]
        },
        {
          "output_type": "execute_result",
          "data": {
            "text/plain": [
              "''"
            ],
            "application/vnd.google.colaboratory.intrinsic+json": {
              "type": "string"
            }
          },
          "metadata": {},
          "execution_count": 3
        }
      ],
      "source": [
        "# Кости\n",
        "# Демонстрирует генерацию случайных чисел\n",
        "\n",
        "import random\n",
        "\n",
        "# создаем случайные числа из диапазона 1 - 6\n",
        "die1 = random.randint(1, 6) # Выводится диапазон от 1 до 6 включительно\n",
        "die2 = random.randrange(6) + 1 # Выводится диапазон от 0 до 5 , поэтому надо прибавить 1\n",
        "\n",
        "total = die1 + die2\n",
        "\n",
        "print(\"При вашем броске выпало\", die1, \"и\", die2, \"очков в сумме\", total)\n",
        "\n",
        "input(\"\\n\\Нажмите Enter чтобы выйти.\")"
      ]
    },
    {
      "cell_type": "markdown",
      "source": [
        "## Password.py"
      ],
      "metadata": {
        "id": "ReyvaeBahcmj"
      }
    },
    {
      "cell_type": "code",
      "source": [
        "# Пароль\n",
        "# Демонстрирует использование конструкции if\n",
        "\n",
        "print(\"Добро пожаловать к нам в ООО 'Системы безопасности'.\")\n",
        "print(\"-- Безопасность - наше второе имя\\n\")\n",
        "\n",
        "password = input(\"Введите пароль: \")\n",
        "\n",
        "if password == \"secret\":\n",
        "    print(\"Доступ открыт\")\n",
        "\n",
        "input(\"\\n\\Нажмите Enter чтобы выйти.\")\n",
        "\n",
        "# Операторы сравнения\n",
        "# == РАВНО\n",
        "# != НЕ РАВНО\n",
        "# > БОЛЬШЕ\n",
        "# < МЕНЬШЕ\n",
        "# >= БОЛЬШЕ ИЛИ РАВНО\n",
        "# <= МЕНЬШЕ ИЛИ РАВНО"
      ],
      "metadata": {
        "colab": {
          "base_uri": "https://localhost:8080/",
          "height": 157
        },
        "id": "SorlEIAohjzz",
        "outputId": "1ac40787-d875-4b51-c56a-b2f2d324f158"
      },
      "execution_count": 6,
      "outputs": [
        {
          "name": "stdout",
          "output_type": "stream",
          "text": [
            "Добро пожаловать к нам в ООО 'Системы безопасности'.\n",
            "-- Безопасность - наше второе имя\n",
            "\n",
            "Введите пароль: secret\n",
            "Доступ открыт\n",
            "\n",
            "\\Нажмите Enter чтобы выйти.\n"
          ]
        },
        {
          "output_type": "execute_result",
          "data": {
            "text/plain": [
              "''"
            ],
            "application/vnd.google.colaboratory.intrinsic+json": {
              "type": "string"
            }
          },
          "metadata": {},
          "execution_count": 6
        }
      ]
    },
    {
      "cell_type": "markdown",
      "source": [
        "## Granted_or_Denied.py"
      ],
      "metadata": {
        "id": "eiytStHslkSN"
      }
    },
    {
      "cell_type": "code",
      "source": [
        "# Открыто/Закрыто\n",
        "# Демонстрирует условие использования else\n",
        "\n",
        "print(\"Добро пожаловать к нам в ООО 'Системы безопасности'.\")\n",
        "print(\"-- Безопасность - наше второе имя\\n\")\n",
        "\n",
        "password = input(\"Enter your password: \")\n",
        "\n",
        "if password == \"secret\":\n",
        "    print(\"Доступ открыт\")\n",
        "else:\n",
        "    print(\"Доступ закрыт\")\n",
        "\n",
        "input(\"\\n\\Нажмите Enter чтобы выйти.\")"
      ],
      "metadata": {
        "colab": {
          "base_uri": "https://localhost:8080/",
          "height": 157
        },
        "id": "5PesjcIKlsHE",
        "outputId": "a238b032-7799-45a7-a8c0-cdc16e04a46f"
      },
      "execution_count": 8,
      "outputs": [
        {
          "name": "stdout",
          "output_type": "stream",
          "text": [
            "Добро пожаловать к нам в ООО 'Системы безопасности'.\n",
            "-- Безопасность - наше второе имя\n",
            "\n",
            "Enter your password: secret\n",
            "Доступ открыт\n",
            "\n",
            "\\Нажмите Enter чтобы выйти.\n"
          ]
        },
        {
          "output_type": "execute_result",
          "data": {
            "text/plain": [
              "''"
            ],
            "application/vnd.google.colaboratory.intrinsic+json": {
              "type": "string"
            }
          },
          "metadata": {},
          "execution_count": 8
        }
      ]
    },
    {
      "cell_type": "markdown",
      "source": [
        "## Mood_Computer.py"
      ],
      "metadata": {
        "id": "BvG_Z2X2msal"
      }
    },
    {
      "cell_type": "code",
      "source": [
        "# Компьютерный датчик настроения\n",
        "# Демонстрирует использование elif\n",
        "\n",
        "import random\n",
        "\n",
        "print(\"Я ощущаю вашу.\")\n",
        "print(\"You are...\")\n",
        "\n",
        "mood = random.randint(1, 3)\n",
        "\n",
        "if mood = 1:\n",
        "    # happy\n",
        "    print( \\\n",
        "    \"\"\"\n",
        "\n",
        "        -----------\n",
        "       |          |\n",
        "       |  O    O  |\n",
        "       |    <     |\n",
        "       |          |\n",
        "       |  .     . |\n",
        "       |   '...'  |\n",
        "        -----------\n",
        "                   \"\"\")\n",
        "elif mood = 2:\n",
        "    # neutral\n",
        "    print( \\\n",
        "    \"\"\"\n",
        "\n",
        "        -----------\n",
        "       |          |\n",
        "       |  O    O  |\n",
        "       |    <     |\n",
        "       |          |\n",
        "       |  ------  |\n",
        "       |          |\n",
        "        -----------\n",
        "                   \"\"\")\n",
        "\n",
        "elif mood = 3:\n",
        "    # sad\n",
        "    print( \\\n",
        "    \"\"\"\n",
        "\n",
        "        -----------\n",
        "       |          |\n",
        "       |  O    O  |\n",
        "       |    <     |\n",
        "       |          |\n",
        "       |   .'.    |\n",
        "       |  '   '   |\n",
        "        -----------\n",
        "                   \"\"\")\n",
        "else:\n",
        "    print(\"Illegal mood value! (You must be in a really bad mood).\")\n",
        "\n",
        "print(\"...today.\")\n",
        "\n",
        "input(\"\\n\\nPress the enter key to exit.\")"
      ],
      "metadata": {
        "id": "tuPkYKShmxqt"
      },
      "execution_count": null,
      "outputs": []
    }
  ]
}