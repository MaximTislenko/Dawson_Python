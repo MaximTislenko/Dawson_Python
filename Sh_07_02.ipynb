{
  "nbformat": 4,
  "nbformat_minor": 0,
  "metadata": {
    "colab": {
      "provenance": [],
      "authorship_tag": "ABX9TyNGdFumdfJIkzftr1+6cMZB",
      "include_colab_link": true
    },
    "kernelspec": {
      "name": "python3",
      "display_name": "Python 3"
    },
    "language_info": {
      "name": "python"
    }
  },
  "cells": [
    {
      "cell_type": "markdown",
      "metadata": {
        "id": "view-in-github",
        "colab_type": "text"
      },
      "source": [
        "<a href=\"https://colab.research.google.com/github/MaximTislenko/Dawson_Python/blob/main/Sh_07_02.ipynb\" target=\"_parent\"><img src=\"https://colab.research.google.com/assets/colab-badge.svg\" alt=\"Open In Colab\"/></a>"
      ]
    },
    {
      "cell_type": "markdown",
      "source": [
        "## Read It.py"
      ],
      "metadata": {
        "id": "85mGe0fQxER0"
      }
    },
    {
      "cell_type": "code",
      "source": [
        "# Прочитаем\n",
        "# Демонстрирует чтение из текстового файла\n",
        "\n",
        "print(\"открываю и закрываю файл\")\n",
        "text_file = open(\"/content/read_it.txt\", \"r\", encoding='utf-8')\n",
        "text_file.close()\n",
        "\n",
        "print(\"\\nЧитаю файл посимвольно.\")\n",
        "text_file = open(\"/content/read_it.txt\", \"r\", encoding='utf-8')\n",
        "print(text_file.read(1))\n",
        "print(text_file.read(5))\n",
        "text_file.close()\n",
        "\n",
        "print(\"\\nЧитаю файл целиком.\")\n",
        "text_file = open(\"/content/read_it.txt\", \"r\", encoding='utf-8')\n",
        "whole_thing = text_file.read()\n",
        "print(whole_thing)\n",
        "text_file.close()\n",
        "\n",
        "print(\"\\nЧитаю строку посимвольно.\")\n",
        "text_file = open(\"/content/read_it.txt\", \"r\", encoding='utf-8')\n",
        "print(text_file.readline(1))\n",
        "print(text_file.readline(5))\n",
        "text_file.close()\n",
        "\n",
        "print(\"\\nЧитаю одну строку целиком.\")\n",
        "text_file = open(\"/content/read_it.txt\", \"r\", encoding='utf-8')\n",
        "print(text_file.readline())\n",
        "print(text_file.readline())\n",
        "print(text_file.readline())\n",
        "text_file.close()\n",
        "\n",
        "print(\"\\nЧитаю весь файл в список.\")\n",
        "text_file = open(\"/content/read_it.txt\", \"r\", encoding='utf-8')\n",
        "lines = text_file.readlines()\n",
        "print(lines)\n",
        "print(len(lines))\n",
        "for line in lines:\n",
        "    print(line)\n",
        "text_file.close()\n",
        "\n",
        "print(\"\\nПеребираю файл построчно.\")\n",
        "text_file = open(\"/content/read_it.txt\", \"r\", encoding='utf-8')\n",
        "for line in text_file:\n",
        "    print(line)\n",
        "text_file.close()\n",
        "\n",
        "input(\"\\n\\nНажмите Enter, чтобы выйти.\")\n",
        "\n",
        "# \"r\" -  Чтение из текстового файла. Если файл не существует, Python сообщит об ошибке\n",
        "# \"w\" -  Запись в текстовый файл.Если файл существует, его содержимое будет заменено.\n",
        "#        Если файл не существует, он будет создан.\n",
        "# \"a\" -  Дозапись в текстовый файл. Если файл существует, новые данные будут дописаны в конец.\n",
        "#        Если файл не существует, он будет создан\n",
        "# \"r+\" - Чтение и запись в текстовый файл. Если файл не существует, Python сообщит об ошибке"
      ],
      "metadata": {
        "id": "-vGrKXAhySdM",
        "outputId": "dd2e597a-1911-4ec1-dd42-999cdd64e56c",
        "colab": {
          "base_uri": "https://localhost:8080/",
          "height": 730
        }
      },
      "execution_count": null,
      "outputs": [
        {
          "name": "stdout",
          "output_type": "stream",
          "text": [
            "открываю и закрываю файл\n",
            "\n",
            "Читаю файл посимвольно.\n",
            "С\n",
            "трока\n",
            "\n",
            "Читаю файл целиком.\n",
            "Строка 1\n",
            "Это строка 2\n",
            "Эьой строке достался номер 3\n",
            "\n",
            "Читаю строку посимвольно.\n",
            "С\n",
            "трока\n",
            "\n",
            "Читаю одну строку целиком.\n",
            "Строка 1\n",
            "\n",
            "Это строка 2\n",
            "\n",
            "Эьой строке достался номер 3\n",
            "\n",
            "Читаю весь файл в список.\n",
            "['Строка 1\\n', 'Это строка 2\\n', 'Эьой строке достался номер 3']\n",
            "3\n",
            "Строка 1\n",
            "\n",
            "Это строка 2\n",
            "\n",
            "Эьой строке достался номер 3\n",
            "\n",
            "Перебираю файл построчно.\n",
            "Строка 1\n",
            "\n",
            "Это строка 2\n",
            "\n",
            "Эьой строке достался номер 3\n",
            "\n",
            "\n",
            "Нажмите Enter, чтобы выйти.\n"
          ]
        },
        {
          "output_type": "execute_result",
          "data": {
            "text/plain": [
              "''"
            ],
            "application/vnd.google.colaboratory.intrinsic+json": {
              "type": "string"
            }
          },
          "metadata": {},
          "execution_count": 1
        }
      ]
    },
    {
      "cell_type": "code",
      "source": [
        "print(\"открываю и закрываю файл\")\n",
        "text_file = open(\"/content/read_it.txt\", \"r\", encoding='utf-8')\n",
        "for i in text_file:\n",
        "  for j in i:\n",
        "    print(j)\n",
        "text_file.close()\n"
      ],
      "metadata": {
        "id": "LE6O69QLc0IF"
      },
      "execution_count": null,
      "outputs": []
    },
    {
      "cell_type": "code",
      "source": [
        "print(\"\\nЧитаю файл посимвольно.\")\n",
        "text_file = open(\"/content/read_it.txt\", \"r\", encoding='utf-8')\n",
        "print(text_file.read(1))\n",
        "print(text_file.read(5))\n",
        "text_file.close()"
      ],
      "metadata": {
        "id": "SWRuNOPXd_39",
        "outputId": "aa0c7b2d-49c5-4661-ac76-3e24bb94412b",
        "colab": {
          "base_uri": "https://localhost:8080/"
        }
      },
      "execution_count": 7,
      "outputs": [
        {
          "output_type": "stream",
          "name": "stdout",
          "text": [
            "\n",
            "Читаю файл посимвольно.\n",
            "С\n",
            "трока\n"
          ]
        }
      ]
    }
  ]
}