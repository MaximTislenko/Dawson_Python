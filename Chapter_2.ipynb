{
  "cells": [
    {
      "cell_type": "markdown",
      "metadata": {
        "id": "view-in-github",
        "colab_type": "text"
      },
      "source": [
        "<a href=\"https://colab.research.google.com/github/MaximTislenko/Dawson_Python/blob/main/Chapter_2.ipynb\" target=\"_parent\"><img src=\"https://colab.research.google.com/assets/colab-badge.svg\" alt=\"Open In Colab\"/></a>"
      ]
    },
    {
      "cell_type": "code",
      "source": [
        "# Game Over - Version 2\n",
        "# Демонстрирует использование кавычек в строках.\n",
        "\n",
        "print(\"Программа 'Game Over' 2.0\")\n",
        "\n",
        "print(\"То же\", \"самое\", \"сообщение\")\n",
        "\n",
        "print(\"Только\",\n",
        "      \"чуть-чуть\",\n",
        "      \"побольше\")\n",
        "\n",
        "print(\"Вот\", end=\" \")\n",
        "print(\"оно...\")\n",
        "\n",
        "print(\n",
        "        \"\"\"\n",
        "         _____      ___      ___  ___  _____\n",
        "        /  ___|    /   |    /   |/   || ____|\n",
        "        | |       / /| |   / /|   /| || |__\n",
        "        | |  _   / ___ |  / / |__/ | ||  __|\n",
        "        | |_| | / /  | | / /       | || |___\n",
        "        \\_____//_/   |_|/_/        |_||_____|\n",
        "\n",
        "         _____  _     _  _____   _____\n",
        "        /  _  \\| |   / /| ____| |  _  \\\n",
        "        | | | || |  / / | |__   | |_| |\n",
        "        | | | || | / /  |  __|  |  _  /\n",
        "        | |_| || |/ /   | |___  | | \\ \\\n",
        "        \\_____/|___/    |_____| |_|  \\_\\\n",
        "\n",
        "        \"\"\"\n",
        "    )\n",
        "\n",
        "input(\"\\n\\nPress the enter key to exit.\")"
      ],
      "metadata": {
        "id": "oXtbouIHcqCO",
        "outputId": "3ccf7432-bd25-4259-d437-a9ae77b6110b",
        "colab": {
          "base_uri": "https://localhost:8080/",
          "height": 383
        }
      },
      "execution_count": 7,
      "outputs": [
        {
          "name": "stdout",
          "output_type": "stream",
          "text": [
            "Программа 'Game Over' 2.0\n",
            "То же самое сообщение\n",
            "Только чуть-чуть побольше\n",
            "Вот оно...\n",
            "\n",
            "         _____      ___      ___  ___  _____\n",
            "        /  ___|    /   |    /   |/   || ____|\n",
            "        | |       / /| |   / /|   /| || |__\n",
            "        | |  _   / ___ |  / / |__/ | ||  __|\n",
            "        | |_| | / /  | | / /       | || |___\n",
            "        \\_____//_/   |_|/_/        |_||_____|\n",
            "         \n",
            "         _____  _     _  _____   _____\n",
            "        /  _  \\| |   / /| ____| |  _          | | | || |  / / | |__   | |_| |\n",
            "        | | | || | / /  |  __|  |  _  /\n",
            "        | |_| || |/ /   | |___  | | \\         \\_____/|___/    |_____| |_|  \\_\n",
            "        \n",
            "\n",
            "\n",
            "Press the enter key to exit.\n"
          ]
        },
        {
          "output_type": "execute_result",
          "data": {
            "text/plain": [
              "''"
            ],
            "application/vnd.google.colaboratory.intrinsic+json": {
              "type": "string"
            }
          },
          "metadata": {},
          "execution_count": 7
        }
      ]
    },
    {
      "cell_type": "code",
      "source": [
        "# Воображаемые благодарности\n",
        "# Образец пименения escape-последовательностей\n",
        "\n",
        "print(\"\\t\\t\\tВоображаемые благодарности\")\n",
        "\n",
        "print(\"\\t\\t\\t \\\\ \\\\ \\\\ \\\\ \\\\ \\\\ \\\\\")\n",
        "print(\"\\t\\t\\tразработчика игры\")\n",
        "print(\"\\t\\t\\tМайкла Доусона\")\n",
        "print(\"\\t\\t\\t \\\\ \\\\ \\\\ \\\\ \\\\ \\\\ \\\\\")\n",
        "\n",
        "print(\"\\nОтдельное спасибо хотелось бы сказать:\")\n",
        "print(\"Моему парикмахеру по прозвищу \\'Великолепный,\\' который не знает слова \\\"невозможно.\\\"\")\n",
        "\n",
        "# Звучит системный динамик\n",
        "print(\"\\a\")\n",
        "\n",
        "input(\"\\n\\nнажмите Enter, чтобы выйти.\")"
      ],
      "metadata": {
        "id": "ocj-_U_AdjgV",
        "outputId": "8843cdac-1cf5-4f20-bf4e-f9ee30f93b20",
        "colab": {
          "base_uri": "https://localhost:8080/",
          "height": 244
        }
      },
      "execution_count": 11,
      "outputs": [
        {
          "name": "stdout",
          "output_type": "stream",
          "text": [
            "\t\t\tВоображаемые благодарности\n",
            "\t\t\t \\ \\ \\ \\ \\ \\ \\\n",
            "\t\t\tразработчика игры\n",
            "\t\t\tМайкла Доусона\n",
            "\t\t\t \\ \\ \\ \\ \\ \\ \\\n",
            "\n",
            "Отдельное спасибо хотелось бы сказать:\n",
            "Моему парикмахеру по прозвищу 'Великолепный,' который не знает слова \"невозможно.\"\n",
            "\u0007\n",
            "\n",
            "\n",
            "нажмите Enter, чтобы выйти.\n"
          ]
        },
        {
          "output_type": "execute_result",
          "data": {
            "text/plain": [
              "''"
            ],
            "application/vnd.google.colaboratory.intrinsic+json": {
              "type": "string"
            }
          },
          "metadata": {},
          "execution_count": 11
        }
      ]
    },
    {
      "cell_type": "code",
      "source": [
        "# Забавные строки\n",
        "# Демонстрирует сцепление и повторение строк\n",
        "\n",
        "print(\"Две строки можно \" + \"сцепить с помощья оператора '+'.\")\n",
        "\n",
        "print(\"\\nЭта строка \" + \"вряд ли \" + \"удив\" + \"ит вас. \" \\\n",
        "      + \"Но интересно, \" + \"что\" + \" она - \\n\" + \"одна длинная-длин\" \\\n",
        "      + \"на\" + \"я\" + \" строка, сцепленная \" \\\n",
        "      + \"из  \" + \"двадцати двух\\n\" + \"отдельных строк, разбитых \" \\\n",
        "      + \"на шесть строк.\" + \" Now are you\" + \" impressed? \" + \"Okay,\\n\" \\\n",
        "      + \"this \" + \"one \" + \"long\" + \" string is now over!\")\n",
        "\n",
        "print(\"\\nIf you really like a string, you can repeat it. For example,\")\n",
        "print(\"who doesn't like pie? That's right, nobody. But if you really\")\n",
        "print(\"like it, you should say it like you mean it:\")\n",
        "print(\"Pie\" * 10)\n",
        "\n",
        "input(\"\\n\\nPress the enter key to exit.\")"
      ],
      "metadata": {
        "id": "ubBykAMLDKIr"
      },
      "execution_count": null,
      "outputs": []
    }
  ],
  "metadata": {
    "colab": {
      "name": "Добро пожаловать в Colaboratory!",
      "toc_visible": true,
      "provenance": [],
      "include_colab_link": true
    },
    "kernelspec": {
      "display_name": "Python 3",
      "name": "python3"
    }
  },
  "nbformat": 4,
  "nbformat_minor": 0
}