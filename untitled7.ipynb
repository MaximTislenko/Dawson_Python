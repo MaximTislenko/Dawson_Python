{
  "nbformat": 4,
  "nbformat_minor": 0,
  "metadata": {
    "colab": {
      "provenance": [],
      "authorship_tag": "ABX9TyNvnqst4boUA3AO3UagAR8B",
      "include_colab_link": true
    },
    "kernelspec": {
      "name": "python3",
      "display_name": "Python 3"
    },
    "language_info": {
      "name": "python"
    }
  },
  "cells": [
    {
      "cell_type": "markdown",
      "metadata": {
        "id": "view-in-github",
        "colab_type": "text"
      },
      "source": [
        "<a href=\"https://colab.research.google.com/github/MaximTislenko/Dawson_Python/blob/main/untitled7.ipynb\" target=\"_parent\"><img src=\"https://colab.research.google.com/assets/colab-badge.svg\" alt=\"Open In Colab\"/></a>"
      ]
    },
    {
      "cell_type": "markdown",
      "source": [
        "## Loopy_String.py\n"
      ],
      "metadata": {
        "id": "TZHxQp9MlbcH"
      }
    },
    {
      "cell_type": "code",
      "execution_count": null,
      "metadata": {
        "id": "VN63GuROjIRe"
      },
      "outputs": [],
      "source": [
        "# Слово по буквам\n",
        "# Демонстрирует применение цикла for к строке\n",
        "\n",
        "word = input(\"Введите слово: \")\n",
        "\n",
        "print(\"\\nВот все буквы вашего слова по порядку:\")\n",
        "for letter in word:\n",
        "    print(letter)\n",
        "\n",
        "input(\"\\n\\nНажмите Enter чтобы выйти.\")"
      ]
    },
    {
      "cell_type": "markdown",
      "source": [
        "## Counter.py"
      ],
      "metadata": {
        "id": "aCdVrR8Dm1xH"
      }
    },
    {
      "cell_type": "code",
      "source": [
        "# Считалка\n",
        "# Демонстрируетиспользование функции range()\n",
        "\n",
        "print(\"Посчитаем:\")\n",
        "for i in range(11):\n",
        "    print(i, end=\" \")\n",
        "\n",
        "print(\"\\n\\nПеречислим кратные пяти:\")\n",
        "for i in range(0, 55, 5):\n",
        "    print(i, end=\" \")\n",
        "\n",
        "print(\"\\n\\nПосчитаем в обратном порядке:\")\n",
        "for i in range(10, -1, -1):\n",
        "    print(i, end=\" \")\n",
        "\n",
        "input(\"\\n\\nНажмите Enter чтобы выйти.\")"
      ],
      "metadata": {
        "colab": {
          "base_uri": "https://localhost:8080/",
          "height": 209
        },
        "id": "QVxNyU0Rm7sO",
        "outputId": "04218bb5-7070-47a6-c88e-bb792f822ffd"
      },
      "execution_count": null,
      "outputs": [
        {
          "name": "stdout",
          "output_type": "stream",
          "text": [
            "Посчитаем:\n",
            "0 1 2 3 4 5 6 7 8 9 10 \n",
            "\n",
            "Перечислим кратные пяти:\n",
            "0 5 10 15 20 25 30 35 40 45 50 \n",
            "\n",
            "Посчитаем в обратном порядке:\n",
            "10 9 8 7 6 5 4 3 2 1 0 \n",
            "\n",
            "Нажмите Enter чтобы выйти.\n"
          ]
        },
        {
          "output_type": "execute_result",
          "data": {
            "text/plain": [
              "''"
            ],
            "application/vnd.google.colaboratory.intrinsic+json": {
              "type": "string"
            }
          },
          "metadata": {},
          "execution_count": 4
        }
      ]
    },
    {
      "cell_type": "markdown",
      "source": [
        "## Message_Analyzer.py"
      ],
      "metadata": {
        "id": "Swq_WQKEoyvG"
      }
    },
    {
      "cell_type": "code",
      "source": [
        "# Анализатор текста\n",
        "# Демонстрирует работу функции len() и оператора in\n",
        "\n",
        "message = input(\"Введите текст: \")\n",
        "\n",
        "print(\"\\nДлина введенного вами текста:\", len(message))\n",
        "\n",
        "print(\"\\nСамая частая согласная, 'т',\")\n",
        "if \"т\" in message: # Если элемент \"т\" член последовательности message, то условие истино(True), если не член - ложь (False)\n",
        "    print(\"встречается в вашем тексте.\")\n",
        "else:\n",
        "    print(\"не встречается в вашем тексте.\")\n",
        "\n",
        "input(\"\\n\\nНажмите Enter чтобы выйти.\")"
      ],
      "metadata": {
        "colab": {
          "base_uri": "https://localhost:8080/",
          "height": 192
        },
        "id": "n1CRW5T4o1Ye",
        "outputId": "6e808fc6-c93b-4f8d-f1ee-c97c3cb29e02"
      },
      "execution_count": null,
      "outputs": [
        {
          "name": "stdout",
          "output_type": "stream",
          "text": [
            "Введите текст: я пришел сегодня на работу в восемь часов\n",
            "\n",
            "Длина введенного вами текста: 41\n",
            "\n",
            "Самая частая согласная, 'т',\n",
            "встречается в вашем тексте.\n",
            "\n",
            "\n",
            "Нажмите Enter чтобы выйти.\n"
          ]
        },
        {
          "output_type": "execute_result",
          "data": {
            "text/plain": [
              "''"
            ],
            "application/vnd.google.colaboratory.intrinsic+json": {
              "type": "string"
            }
          },
          "metadata": {},
          "execution_count": 5
        }
      ]
    }
  ]
}