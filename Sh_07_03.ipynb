{
  "nbformat": 4,
  "nbformat_minor": 0,
  "metadata": {
    "colab": {
      "provenance": [],
      "authorship_tag": "ABX9TyPoK7LLVmVe5o6IPIlkW5oH",
      "include_colab_link": true
    },
    "kernelspec": {
      "name": "python3",
      "display_name": "Python 3"
    },
    "language_info": {
      "name": "python"
    }
  },
  "cells": [
    {
      "cell_type": "markdown",
      "metadata": {
        "id": "view-in-github",
        "colab_type": "text"
      },
      "source": [
        "<a href=\"https://colab.research.google.com/github/MaximTislenko/Dawson_Python/blob/main/Sh_07_03.ipynb\" target=\"_parent\"><img src=\"https://colab.research.google.com/assets/colab-badge.svg\" alt=\"Open In Colab\"/></a>"
      ]
    },
    {
      "cell_type": "markdown",
      "source": [
        "## Read It.py"
      ],
      "metadata": {
        "id": "85mGe0fQxER0"
      }
    },
    {
      "cell_type": "code",
      "source": [
        "# Прочитаем\n",
        "# Демонстрирует чтение из текстового файла\n",
        "\n",
        "print(\"открываю и закрываю файл\")\n",
        "text_file = open(\"/content/read_it.txt\", \"r\", encoding='utf-8')\n",
        "text_file.close()\n",
        "\n",
        "print(\"\\nЧитаю файл посимвольно.\")\n",
        "text_file = open(\"/content/read_it.txt\", \"r\", encoding='utf-8')\n",
        "print(text_file.read(1))\n",
        "print(text_file.read(5))\n",
        "text_file.close()\n",
        "\n",
        "print(\"\\nЧитаю файл целиком.\")\n",
        "text_file = open(\"/content/read_it.txt\", \"r\", encoding='utf-8')\n",
        "whole_thing = text_file.read()\n",
        "print(whole_thing)\n",
        "text_file.close()\n",
        "\n",
        "print(\"\\nЧитаю строку посимвольно.\")\n",
        "text_file = open(\"/content/read_it.txt\", \"r\", encoding='utf-8')\n",
        "print(text_file.readline(1))\n",
        "print(text_file.readline(5))\n",
        "text_file.close()\n",
        "\n",
        "print(\"\\nЧитаю одну строку целиком.\")\n",
        "text_file = open(\"/content/read_it.txt\", \"r\", encoding='utf-8')\n",
        "print(text_file.readline())\n",
        "print(text_file.readline())\n",
        "print(text_file.readline())\n",
        "text_file.close()\n",
        "\n",
        "print(\"\\nЧитаю весь файл в список.\")\n",
        "text_file = open(\"/content/read_it.txt\", \"r\", encoding='utf-8')\n",
        "lines = text_file.readlines()\n",
        "print(lines)\n",
        "print(len(lines))\n",
        "for line in lines:\n",
        "    print(line)\n",
        "text_file.close()\n",
        "\n",
        "print(\"\\nПеребираю файл построчно.\")\n",
        "text_file = open(\"/content/read_it.txt\", \"r\", encoding='utf-8')\n",
        "for line in text_file:\n",
        "    print(line)\n",
        "text_file.close()\n",
        "\n",
        "input(\"\\n\\nНажмите Enter, чтобы выйти.\")\n",
        "\n",
        "# \"r\" -  Чтение из текстового файла. Если файл не существует, Python сообщит об ошибке.\n",
        "# \"w\" -  Запись в текстовый файл.Если файл существует, его содержимое будет заменено.\n",
        "#        Если файл не существует, он будет создан.\n",
        "# \"a\" -  Дозапись в текстовый файл. Если файл существует, новые данные будут дописаны в конец.\n",
        "#        Если файл не существует, он будет создан.\n",
        "# \"r+\" - Чтение и запись в текстовый файл. Если файл не существует, Python сообщит об ошибке.\n",
        "# \"w+\" - Запись и чтение из текстового файла.Если файл существует, его содержимое будет заменено.\n",
        "#        Если файл не существует, он будет создан.\n",
        "# \"a+\" - Дозапись и чтение из текстового файла. Если файл существует, новые данные будут дописаны в конец.\n",
        "#        Если файл не существует, он будет создан."
      ],
      "metadata": {
        "id": "-vGrKXAhySdM",
        "outputId": "dd2e597a-1911-4ec1-dd42-999cdd64e56c",
        "colab": {
          "base_uri": "https://localhost:8080/",
          "height": 730
        }
      },
      "execution_count": null,
      "outputs": [
        {
          "name": "stdout",
          "output_type": "stream",
          "text": [
            "открываю и закрываю файл\n",
            "\n",
            "Читаю файл посимвольно.\n",
            "С\n",
            "трока\n",
            "\n",
            "Читаю файл целиком.\n",
            "Строка 1\n",
            "Это строка 2\n",
            "Эьой строке достался номер 3\n",
            "\n",
            "Читаю строку посимвольно.\n",
            "С\n",
            "трока\n",
            "\n",
            "Читаю одну строку целиком.\n",
            "Строка 1\n",
            "\n",
            "Это строка 2\n",
            "\n",
            "Эьой строке достался номер 3\n",
            "\n",
            "Читаю весь файл в список.\n",
            "['Строка 1\\n', 'Это строка 2\\n', 'Эьой строке достался номер 3']\n",
            "3\n",
            "Строка 1\n",
            "\n",
            "Это строка 2\n",
            "\n",
            "Эьой строке достался номер 3\n",
            "\n",
            "Перебираю файл построчно.\n",
            "Строка 1\n",
            "\n",
            "Это строка 2\n",
            "\n",
            "Эьой строке достался номер 3\n",
            "\n",
            "\n",
            "Нажмите Enter, чтобы выйти.\n"
          ]
        },
        {
          "output_type": "execute_result",
          "data": {
            "text/plain": [
              "''"
            ],
            "application/vnd.google.colaboratory.intrinsic+json": {
              "type": "string"
            }
          },
          "metadata": {},
          "execution_count": 1
        }
      ]
    },
    {
      "cell_type": "code",
      "source": [
        "print(\"открываю и закрываю файл\")\n",
        "text_file = open(\"/content/read_it.txt\", \"r\", encoding='utf-8')\n",
        "for i in text_file:\n",
        "  for j in i:\n",
        "    print(j)\n",
        "text_file.close()\n"
      ],
      "metadata": {
        "id": "LE6O69QLc0IF",
        "outputId": "fd4d3ea6-21d8-4f5b-974a-e138072dc38a",
        "colab": {
          "base_uri": "https://localhost:8080/"
        }
      },
      "execution_count": 2,
      "outputs": [
        {
          "output_type": "stream",
          "name": "stdout",
          "text": [
            "открываю и закрываю файл\n",
            "С\n",
            "т\n",
            "р\n",
            "о\n",
            "к\n",
            "а\n",
            " \n",
            "1\n",
            "\n",
            "\n",
            "Э\n",
            "т\n",
            "о\n",
            " \n",
            "с\n",
            "т\n",
            "р\n",
            "о\n",
            "к\n",
            "а\n",
            " \n",
            "2\n",
            "\n",
            "\n",
            "Э\n",
            "ь\n",
            "о\n",
            "й\n",
            " \n",
            "с\n",
            "т\n",
            "р\n",
            "о\n",
            "к\n",
            "е\n",
            " \n",
            "д\n",
            "о\n",
            "с\n",
            "т\n",
            "а\n",
            "л\n",
            "с\n",
            "я\n",
            " \n",
            "н\n",
            "о\n",
            "м\n",
            "е\n",
            "р\n",
            " \n",
            "3\n"
          ]
        }
      ]
    },
    {
      "cell_type": "code",
      "source": [
        "print(\"\\nЧитаю файл посимвольно.\")\n",
        "text_file = open(\"/content/read_it.txt\", \"r\", encoding='utf-8')\n",
        "print(text_file.read(3))\n",
        "print(text_file.read(5))\n",
        "text_file.close()"
      ],
      "metadata": {
        "id": "SWRuNOPXd_39",
        "outputId": "df972a68-bca2-4649-d028-5d9d65998026",
        "colab": {
          "base_uri": "https://localhost:8080/"
        }
      },
      "execution_count": 4,
      "outputs": [
        {
          "output_type": "stream",
          "name": "stdout",
          "text": [
            "\n",
            "Читаю файл посимвольно.\n",
            "Стр\n",
            "ока 1\n"
          ]
        }
      ]
    },
    {
      "cell_type": "markdown",
      "source": [
        "## Write It.py"
      ],
      "metadata": {
        "id": "ljdCgTSpcSvR"
      }
    },
    {
      "cell_type": "code",
      "source": [
        "# Запишем\n",
        "# Демонстрирует запись в текстовый файл\n",
        "\n",
        "print(\"Создаю текстовый файл методом write().\")\n",
        "text_file = open(\"/content/write_it.txt\", \"w\", encoding= 'utf-8')\n",
        "\n",
        "text_file.write(\"Строка 1\\n\")\n",
        "text_file.write(\"Это строка 2\\n\")\n",
        "text_file.write(\"Этой строке достался номер 3\\n\")\n",
        "\n",
        "text_file.close()\n",
        "\n",
        "print(\"\\nЧитаю вновь созданный файл.\")\n",
        "text_file = open(\"/content/write_it.txt\", \"r\", encoding= 'utf-8')\n",
        "print(text_file.read())\n",
        "text_file.close()\n",
        "\n",
        "print(\"\\nСоздаю текстовый файл методом writelines().\")\n",
        "text_file = open(\"/content/write_it_01.txt\", \"w\", encoding= 'utf-8')\n",
        "\n",
        "lines = [\"Строка 1\\n\",\n",
        "         \"Это строка 2\\n\",\n",
        "         \"Этой строке достался номер 3\\n\"]\n",
        "\n",
        "text_file.writelines(lines)\n",
        "\n",
        "text_file.close()\n",
        "\n",
        "print(\"\\nЧитаю вновь созданный файл.\")\n",
        "text_file = open(\"write_it_01.txt\", \"r\", encoding= 'utf-8')\n",
        "print(text_file.read())\n",
        "text_file.close()\n",
        "\n",
        "input(\"\\n\\nНажмите Enter, чтобы выйти.\")\n",
        "\n",
        "\n",
        "\n",
        "#                  close() - Закрывает файл. Закрытый файл недоступен для чтения и записи до тех пор,\n",
        "#                            пока не будет открыт снова.\n",
        "#            read([число]) - Читает указанное количество символов из файла и возвращает их в видестроки\n",
        "#                            Если число не указано, метод возвратит все символы, начиная с текущей\n",
        "#                            позиции и до конца файла.\n",
        "#        readline([число]) - Читает указанное количество символов из текущей строки файла и возвращает их\n",
        "#                            в виде строки. Если число не указано, метод возвратит все символы, начиная с\n",
        "#                            текущей позиции и до конца строки.\n",
        "#              readlines() - Читает все строки файла и возвращает список, элементами которого они все являются.\n",
        "#            write(строка) - Записывает строку в файл\n",
        "# writelines(список строк) - Записываетсписок список строк текста в файл.\n",
        "#\n",
        "#\n",
        "#\n",
        "#"
      ],
      "metadata": {
        "id": "MHcH43Yccb-n",
        "outputId": "86c76763-4a5d-4345-cbd4-8057f2c4d838",
        "colab": {
          "base_uri": "https://localhost:8080/",
          "height": 348
        }
      },
      "execution_count": 7,
      "outputs": [
        {
          "name": "stdout",
          "output_type": "stream",
          "text": [
            "Создаю текстовый файл методом write().\n",
            "\n",
            "Читаю вновь созданный файл.\n",
            "Строка 1\n",
            "Это строка 2\n",
            "Этой строке достался номер 3\n",
            "\n",
            "\n",
            "Создаю текстовый файл методом writelines().\n",
            "\n",
            "Читаю вновь созданный файл.\n",
            "Строка 1\n",
            "Это строка 2\n",
            "Этой строке достался номер 3\n",
            "\n",
            "\n",
            "\n",
            "Нажмите Enter, чтобы выйти.\n"
          ]
        },
        {
          "output_type": "execute_result",
          "data": {
            "text/plain": [
              "''"
            ],
            "application/vnd.google.colaboratory.intrinsic+json": {
              "type": "string"
            }
          },
          "metadata": {},
          "execution_count": 7
        }
      ]
    },
    {
      "cell_type": "markdown",
      "source": [
        "## Pickle It.py"
      ],
      "metadata": {
        "id": "eOX7S8Y8C5AU"
      }
    },
    {
      "cell_type": "code",
      "source": [
        "# Законсервируем\n",
        "# Демонстрирует консервацию данных и доступ к ним через интерфейс полки\n",
        "\n",
        "import pickle, shelve\n",
        "\n",
        "print(\"Консервация списков.\")\n",
        "variety = [\"огурцы\", \"помидоры\", \"капуста\"]\n",
        "shape = [\"целые\", \"кубиками\", \"соломкой\"]\n",
        "brand = [\"Главпродукт\", \"Чумак\", \"Бондюэль\"]\n",
        "\n",
        "f = open(\"pickles1.dat\", \"wb\")\n",
        "\n",
        "pickle.dump(variety, f)\n",
        "pickle.dump(shape, f)\n",
        "pickle.dump(brand, f)\n",
        "f.close()\n",
        "\n",
        "print(\"\\nРасконсервация списков.\")\n",
        "f = open(\"pickles1.dat\", \"rb\")\n",
        "variety = pickle.load(f) # Необходимо выполнить в правильном порядке (тот же, что вы ввели),\n",
        "shape = pickle.load(f)   # т. е. он не знает, что первый из них — «variety».\n",
        "brand = pickle.load(f)\n",
        "\n",
        "\n",
        "print(\"продукты -\", variety)\n",
        "print(\"нарезка -\", shape)\n",
        "print(\"брэнд -\", brand)\n",
        "f.close()\n",
        "\n",
        "print(\"\\nПомещение списков на полку.\") # Действует аналогично словарю.\n",
        "s = shelve.open(\"pickles2.dat\")\n",
        "\n",
        "s[\"variety\"] = [\"sweet\", \"hot\", \"dill\"]\n",
        "s[\"shape\"] = [\"whole\", \"spear\", \"chip\"]\n",
        "s[\"brand\"] = [\"Claussen\", \"Heinz\", \"Vlassic\"]\n",
        "s[\"types\"] = [\"variety\", \"shape\", \"brand\"]\n",
        "\n",
        "s.sync() # убедимся ,что данные записаны\n",
        "\n",
        "print(\"\\nИзвлечение списков из файла полки:\")\n",
        "print(\"brand -\", s[\"brand\"])\n",
        "print(\"shape -\", s[\"shape\"])\n",
        "print(\"variety -\", s[\"variety\"])\n",
        "print(s)\n",
        "\n",
        "s.close()\n",
        "\n",
        "input(\"\\n\\nНажмите Enter, чтобы выйти.\")\n",
        "# РЕЖИМЫ ОБРАЩЕНИЯ К ФАЙЛУ\n",
        "# \"rb\" - Чтение из бинарного файла. Если файл не существует, то Python сообщит об ошибке.\n",
        "# \"wb\" - Запись в бинарный файл. Если файл существует, его содержимое будет заменено.\n",
        "#        Если файл не существует, он будет создан.\n",
        "# \"ab\" - Дозапись в бинарный файл. Если файл существует, новые данные будут дописаны в конец.\n",
        "#        Если файл не существует, он будет создан.\n",
        "#\"rb+\" - Чтение и запись из бинарного файла. Если файл не существует, то Python сообщит об ошибке.\n",
        "#\"wb+\" - Запись и чтение из бинарного файла. Если файл существует, его содержимое будет заменено.\n",
        "#        Если файл не существует, он будет создан.\n",
        "#\"ab+\" - Дозапись и чтение из бинарного файла. Если файл существует, новые данные будут дописаны в конец.\n",
        "#        Если файл не существует, он будет создан.\n",
        "\n",
        "# ФУНКЦИИ МОДУЛЯ pickle\n",
        "# dump(объект, файл, [,bin]) - Пишет законсервированную версию объекта в файл. Если параметр bin равен True,\n",
        "#                              объект записывается в двоичном формате, а если False - в менее практичном,\n",
        "#                              но более удобно читаемом текстовом формате. По умолчанию, bin= False.\n",
        "#load(файл) - Расшифровывает очередной консервированный объект из файла и возвращает его.\n",
        "#\n",
        "#\n",
        "#\n"
      ],
      "metadata": {
        "id": "UI0e53fQEu7e",
        "outputId": "a6884740-0553-465d-d361-f697ce3ea4fb",
        "colab": {
          "base_uri": "https://localhost:8080/",
          "height": 331
        }
      },
      "execution_count": 10,
      "outputs": [
        {
          "name": "stdout",
          "output_type": "stream",
          "text": [
            "Консервация списков.\n",
            "\n",
            "Расконсервация списков.\n",
            "продукты - ['огурцы', 'помидоры', 'капуста']\n",
            "нарезка - ['целые', 'кубиками', 'соломкой']\n",
            "брэнд - ['Главпродукт', 'Чумак', 'Бондюэль']\n",
            "\n",
            "Помещение списков на полку.\n",
            "\n",
            "Извлечение списков из файла полки:\n",
            "brand - ['Claussen', 'Heinz', 'Vlassic']\n",
            "shape - ['whole', 'spear', 'chip']\n",
            "variety - ['sweet', 'hot', 'dill']\n",
            "<shelve.DbfilenameShelf object at 0x7808f05f0700>\n",
            "\n",
            "\n",
            "Нажмите Enter, чтобы выйти.\n"
          ]
        },
        {
          "output_type": "execute_result",
          "data": {
            "text/plain": [
              "''"
            ],
            "application/vnd.google.colaboratory.intrinsic+json": {
              "type": "string"
            }
          },
          "metadata": {},
          "execution_count": 10
        }
      ]
    }
  ]
}