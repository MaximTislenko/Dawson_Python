{
  "nbformat": 4,
  "nbformat_minor": 0,
  "metadata": {
    "colab": {
      "provenance": [],
      "authorship_tag": "ABX9TyM13K0OpzC00cBftfhKYs6V",
      "include_colab_link": true
    },
    "kernelspec": {
      "name": "python3",
      "display_name": "Python 3"
    },
    "language_info": {
      "name": "python"
    }
  },
  "cells": [
    {
      "cell_type": "markdown",
      "metadata": {
        "id": "view-in-github",
        "colab_type": "text"
      },
      "source": [
        "<a href=\"https://colab.research.google.com/github/MaximTislenko/Dawson_Python/blob/main/Ch_03_final.ipynb\" target=\"_parent\"><img src=\"https://colab.research.google.com/assets/colab-badge.svg\" alt=\"Open In Colab\"/></a>"
      ]
    },
    {
      "cell_type": "markdown",
      "source": [
        "## Craps_Roller.py"
      ],
      "metadata": {
        "id": "l_3CYgkwfFv7"
      }
    },
    {
      "cell_type": "code",
      "execution_count": 4,
      "metadata": {
        "colab": {
          "base_uri": "https://localhost:8080/",
          "height": 88
        },
        "id": "2XL1kreEbfvO",
        "outputId": "6c51e548-468f-4fa4-b7b8-3d6849878c21"
      },
      "outputs": [
        {
          "name": "stdout",
          "output_type": "stream",
          "text": [
            "При вашем броске выпало 2 и 5 очков в сумме 7\n",
            "\n",
            "\\Нажмите Enter чтобы выйти.\n"
          ]
        },
        {
          "output_type": "execute_result",
          "data": {
            "text/plain": [
              "''"
            ],
            "application/vnd.google.colaboratory.intrinsic+json": {
              "type": "string"
            }
          },
          "metadata": {},
          "execution_count": 4
        }
      ],
      "source": [
        "# Кости\n",
        "# Демонстрирует генерацию случайных чисел\n",
        "\n",
        "import random\n",
        "\n",
        "# создаем случайные числа из диапазона 1 - 6\n",
        "die1 = random.randint(1, 6) # Выводится диапазон от 1 до 6 включительно\n",
        "die2 = random.randrange(6) + 1 # Выводится диапазон от 0 до 5 , поэтому надо прибавить 1\n",
        "\n",
        "total = die1 + die2\n",
        "\n",
        "print(\"При вашем броске выпало\", die1, \"и\", die2, \"очков в сумме\", total)\n",
        "\n",
        "input(\"\\n\\Нажмите Enter чтобы выйти.\")"
      ]
    },
    {
      "cell_type": "markdown",
      "source": [
        "## Password.py"
      ],
      "metadata": {
        "id": "ReyvaeBahcmj"
      }
    },
    {
      "cell_type": "code",
      "source": [
        "# Пароль\n",
        "# Демонстрирует использование конструкции if\n",
        "\n",
        "print(\"Добро пожаловать к нам в ООО 'Системы безопасности'.\")\n",
        "print(\"-- Безопасность - наше второе имя\\n\")\n",
        "\n",
        "password = input(\"Введите пароль: \")\n",
        "\n",
        "if password == \"secret\":\n",
        "    print(\"Доступ открыт\")\n",
        "\n",
        "input(\"\\n\\Нажмите Enter чтобы выйти.\")\n",
        "\n",
        "# Операторы сравнения\n",
        "# == РАВНО\n",
        "# != НЕ РАВНО\n",
        "# > БОЛЬШЕ\n",
        "# < МЕНЬШЕ\n",
        "# >= БОЛЬШЕ ИЛИ РАВНО\n",
        "# <= МЕНЬШЕ ИЛИ РАВНО"
      ],
      "metadata": {
        "colab": {
          "base_uri": "https://localhost:8080/",
          "height": 140
        },
        "id": "SorlEIAohjzz",
        "outputId": "000ff1d4-fc59-443f-ec48-eae905c9da19"
      },
      "execution_count": 5,
      "outputs": [
        {
          "name": "stdout",
          "output_type": "stream",
          "text": [
            "Добро пожаловать к нам в ООО 'Системы безопасности'.\n",
            "-- Безопасность - наше второе имя\n",
            "\n",
            "Введите пароль: \n",
            "\n",
            "\\Нажмите Enter чтобы выйти.\n"
          ]
        },
        {
          "output_type": "execute_result",
          "data": {
            "text/plain": [
              "''"
            ],
            "application/vnd.google.colaboratory.intrinsic+json": {
              "type": "string"
            }
          },
          "metadata": {},
          "execution_count": 5
        }
      ]
    },
    {
      "cell_type": "markdown",
      "source": [
        "## Granted_or_Denied.py"
      ],
      "metadata": {
        "id": "eiytStHslkSN"
      }
    },
    {
      "cell_type": "code",
      "source": [
        "# Открыто/Закрыто\n",
        "# Демонстрирует условие использования else\n",
        "\n",
        "print(\"Добро пожаловать к нам в ООО 'Системы безопасности'.\")\n",
        "print(\"-- Безопасность - наше второе имя\\n\")\n",
        "\n",
        "password = input(\"Enter your password: \")\n",
        "\n",
        "if password == \"secret\":\n",
        "    print(\"Доступ открыт\")\n",
        "else:\n",
        "    print(\"Доступ закрыт\")\n",
        "\n",
        "input(\"\\n\\Нажмите Enter чтобы выйти.\")"
      ],
      "metadata": {
        "colab": {
          "base_uri": "https://localhost:8080/",
          "height": 157
        },
        "id": "5PesjcIKlsHE",
        "outputId": "9a5c5b8b-5fd8-4095-a5dd-5b8553ed071b"
      },
      "execution_count": 6,
      "outputs": [
        {
          "output_type": "stream",
          "name": "stdout",
          "text": [
            "Добро пожаловать к нам в ООО 'Системы безопасности'.\n",
            "-- Безопасность - наше второе имя\n",
            "\n",
            "Enter your password: \n",
            "\n",
            "\\Нажмите Enter чтобы выйти.\n",
            "Доступ закрыт\n"
          ]
        },
        {
          "output_type": "execute_result",
          "data": {
            "text/plain": [
              "''"
            ],
            "application/vnd.google.colaboratory.intrinsic+json": {
              "type": "string"
            }
          },
          "metadata": {},
          "execution_count": 6
        }
      ]
    },
    {
      "cell_type": "markdown",
      "source": [
        "## Mood_Computer.py"
      ],
      "metadata": {
        "id": "BvG_Z2X2msal"
      }
    },
    {
      "cell_type": "code",
      "source": [
        "# Компьютерный датчик настроения\n",
        "# Демонстрирует использование elif\n",
        "\n",
        "import random\n",
        "\n",
        "print(\"Я ощущаю вашу энергетику. от моего экрана не скрыто ни одно из ваших чувств.\")\n",
        "print(\"Итак, Ваше настроение...\")\n",
        "\n",
        "mood = random.randint(1, 3)\n",
        "\n",
        "if mood == 1:\n",
        "    # радостное\n",
        "    print( \\\n",
        "    \"\"\"\n",
        "\n",
        "       -----------\n",
        "       |          |\n",
        "       |  O    O  |\n",
        "       |    <     |\n",
        "       |          |\n",
        "       |  .     . |\n",
        "       |   '...'  |\n",
        "       -----------\n",
        "                   \"\"\")\n",
        "elif mood == 2:\n",
        "    # так себе\n",
        "    print( \\\n",
        "    \"\"\"\n",
        "\n",
        "        -----------\n",
        "       |          |\n",
        "       |  O    O  |\n",
        "       |    <     |\n",
        "       |          |\n",
        "       |  ------  |\n",
        "       |          |\n",
        "        -----------\n",
        "                   \"\"\")\n",
        "\n",
        "elif mood == 3:\n",
        "    # прескверное\n",
        "    print( \\\n",
        "    \"\"\"\n",
        "\n",
        "        -----------\n",
        "       |          |\n",
        "       |  O    O  |\n",
        "       |    <     |\n",
        "       |          |\n",
        "       |   .'.    |\n",
        "       |  '   '   |\n",
        "        -----------\n",
        "                   \"\"\")\n",
        "else:\n",
        "    print(\"Не бывает такого настроения! (Должно быть, вы совершенно не в себе).\")\n",
        "\n",
        "print(\"...Но это только сегодня.\")\n",
        "\n",
        "input(\"\\n\\Нажмите Enter чтобы выйти.\")"
      ],
      "metadata": {
        "id": "tuPkYKShmxqt",
        "outputId": "38e5544e-9ebd-4ea6-e0cc-fc19c8585ebf",
        "colab": {
          "base_uri": "https://localhost:8080/",
          "height": 313
        }
      },
      "execution_count": 7,
      "outputs": [
        {
          "name": "stdout",
          "output_type": "stream",
          "text": [
            "Я ощущаю вашу энергетику. от моего экрана не скрыто ни одно из ваших чувств.\n",
            "Итак, Ваше настроение...\n",
            "\n",
            "\n",
            "        -----------\n",
            "       |          |\n",
            "       |  O    O  |\n",
            "       |    <     |\n",
            "       |          |\n",
            "       |   .'.    |\n",
            "       |  '   '   |\n",
            "        -----------\n",
            "                   \n",
            "...Но это только сегодня.\n",
            "\n",
            "\\Нажмите Enter чтобы выйти.\n"
          ]
        },
        {
          "output_type": "execute_result",
          "data": {
            "text/plain": [
              "''"
            ],
            "application/vnd.google.colaboratory.intrinsic+json": {
              "type": "string"
            }
          },
          "metadata": {},
          "execution_count": 7
        }
      ]
    },
    {
      "cell_type": "markdown",
      "source": [
        "## Three_Year-Old Simulator.py"
      ],
      "metadata": {
        "id": "J_a4RCfwHb3g"
      }
    },
    {
      "cell_type": "code",
      "source": [
        "# Симулятор трехлетнего ребенка\n",
        "# Демонстрирует работу цикла while\n",
        "\n",
        "print(\"\\tДобро пожаловать в программу 'Симулятор трехлетнего ребенка'\\n\")\n",
        "print(\"Имитирует разговор с маленьким ребенком.\")\n",
        "print(\"Попробуйте остановить этот кошмар.\\n\")\n",
        "\n",
        "response = \"\"\n",
        "while response != \"Потому что.\":\n",
        "    response = input(\"Почему?\\n\")\n",
        "\n",
        "print(\"А, ладно.\")\n",
        "\n",
        "input(\"\\n\\Нажмите Enter чтобы выйти.\")"
      ],
      "metadata": {
        "id": "vY7Iq6b6HZOO",
        "outputId": "4c350e3d-6c03-4806-9d8c-19c93c4127eb",
        "colab": {
          "base_uri": "https://localhost:8080/",
          "height": 278
        }
      },
      "execution_count": 8,
      "outputs": [
        {
          "name": "stdout",
          "output_type": "stream",
          "text": [
            "\tДобро пожаловать в программу 'Симулятор трехлетнего ребенка'\n",
            "\n",
            "Имитирует разговор с маленьким ребенком.\n",
            "Попробуйте остановить этот кошмар.\n",
            "\n",
            "Почему?\n",
            "так надо\n",
            "Почему?\n",
            "я не знаю\n",
            "Почему?\n",
            "Потому что.\n",
            "А, ладно.\n",
            "\n",
            "\\Нажмите Enter чтобы выйти.\n"
          ]
        },
        {
          "output_type": "execute_result",
          "data": {
            "text/plain": [
              "''"
            ],
            "application/vnd.google.colaboratory.intrinsic+json": {
              "type": "string"
            }
          },
          "metadata": {},
          "execution_count": 8
        }
      ]
    },
    {
      "cell_type": "markdown",
      "source": [
        "## Losing_Battle.py"
      ],
      "metadata": {
        "id": "ptZ1e2bNPiFO"
      }
    },
    {
      "cell_type": "code",
      "source": [
        "# Проигранное сражение\n",
        "# Демонстрирует тот самый ненавистный нам бесконечный цикл\n",
        "\n",
        "print(\"Вашего героя окружила огромная армия троллей.\")\n",
        "print(\"Смрадными зелеными трупами врагов устланы все окрестные поля.\")\n",
        "print(\"Одинокий герой достает меч из ножен, готовясь к последней битве в своей жизни.\\n\")\n",
        "\n",
        "health = 10\n",
        "trolls = 0\n",
        "damage = 3\n",
        "\n",
        "while health != 0:\n",
        "    trolls += 1\n",
        "    health -= damage\n",
        "\n",
        "    print(\"Взмахнув мечом, ваш герой истребляет злобного тролля.\" \\\n",
        "          \"но сам получает повреждений на \", damage, \" очков.\\n\")\n",
        "\n",
        "print(\"Ваш герой доблестно сражался и убил \", trolls, \"троллей.\")\n",
        "print(\"Но увы! Он пал на поле боя.\")\n",
        "\n",
        "input(\"\\n\\Нажмите Enter чтобы выйти.\")"
      ],
      "metadata": {
        "id": "uuvufQLvPo9G"
      },
      "execution_count": null,
      "outputs": []
    },
    {
      "cell_type": "markdown",
      "source": [
        "## Losing_Battle_fixed.py"
      ],
      "metadata": {
        "id": "L8urhHi2SvHW"
      }
    },
    {
      "cell_type": "code",
      "source": [
        "# Проигранное сражение\n",
        "# Демонстрирует тот самый ненавистный нам бесконечный цикл\n",
        "\n",
        "print(\"Вашего героя окружила огромная армия троллей.\")\n",
        "print(\"Смрадными зелеными трупами врагов устланы все окрестные поля.\")\n",
        "print(\"Одинокий герой достает меч из ножен, готовясь к последней битве в своей жизни.\\n\")\n",
        "\n",
        "health = 1000\n",
        "trolls = 0\n",
        "damage = 3\n",
        "\n",
        "\n",
        "while health > 0: # edit != to < so program does not produce an infinite loop\n",
        "    trolls += 1\n",
        "    health -= damage\n",
        "\n",
        "    print(\"Взмахнув мечом, ваш герой истребляет злобного тролля.\" \\\n",
        "          \"но сам получает повреждений на \", damage, \" очков.\\n\")\n",
        "\n",
        "print(\"Ваш герой доблестно сражался и убил \", trolls, \"троллей.\")\n",
        "print(\"Но увы! Он пал на поле боя.\")\n",
        "\n",
        "input(\"\\n\\Нажмите Enter чтобы выйти.\")"
      ],
      "metadata": {
        "id": "iBnnMFSrSoce"
      },
      "execution_count": null,
      "outputs": []
    },
    {
      "cell_type": "markdown",
      "source": [
        "## Maitre_D'.py"
      ],
      "metadata": {
        "id": "EIJtwAsGUufG"
      }
    },
    {
      "cell_type": "code",
      "source": [
        "# Метрдотель\n",
        "# Демонстрирует условную интерпретацию значений\n",
        "\n",
        "print(\"Добро пожаловать в Шато-де-Перекуси\")\n",
        "print(\"Кажется, нынешним вечером у нас все столики заняты.\\n\")\n",
        "\n",
        "money = int(input(\"Сколько долларов вы готовы дать метрдотелю на чай? \"))\n",
        "\n",
        "if money: # если значение равно 0 или \"\" то оно ложное - False\n",
        "    print(\"Прошу прощения, мне сейчас сообщили, что есть один свободный столик. Сюда, пожалуйста.\")\n",
        "else:\n",
        "    print(\"Присаживайтесь, будьте добры. Придется подождать\")\n",
        "\n",
        "input(\"\\n\\Нажмите Enter чтобы выйти.\")"
      ],
      "metadata": {
        "id": "VYBnUJ-JU0_O",
        "outputId": "822532b6-da69-4828-ffd0-fbf91782b257",
        "colab": {
          "base_uri": "https://localhost:8080/",
          "height": 157
        }
      },
      "execution_count": 19,
      "outputs": [
        {
          "name": "stdout",
          "output_type": "stream",
          "text": [
            "Добро пожаловать в Шато-де-Перекуси\n",
            "Кажется, нынешним вечером у нас все столики заняты.\n",
            "\n",
            "Сколько долларов вы готовы дать метрдотелю на чай? 10\n",
            "Прошу прощения, мне сейчас сообщили, что есть один свободный столик. Сюда, пожалуйста.\n",
            "\n",
            "\\Нажмите Enter чтобы выйти.\n"
          ]
        },
        {
          "output_type": "execute_result",
          "data": {
            "text/plain": [
              "''"
            ],
            "application/vnd.google.colaboratory.intrinsic+json": {
              "type": "string"
            }
          },
          "metadata": {},
          "execution_count": 19
        }
      ]
    },
    {
      "cell_type": "markdown",
      "source": [
        "## Finicky_Counter.py"
      ],
      "metadata": {
        "id": "u0TyFBnOjQ6h"
      }
    },
    {
      "cell_type": "code",
      "source": [
        "# Привередливая считалка\n",
        "# Демонстрирует работу команд break и continue\n",
        "\n",
        "count = 0\n",
        "while True:\n",
        "    count += 1\n",
        "    # завершить цикл, если count принимает значение больше 10\n",
        "    if count > 10:\n",
        "        break\n",
        "    # пропустить 5\n",
        "    if count == 5:\n",
        "        continue\n",
        "    print(count)\n",
        "\n",
        "input(\"\\n\\Нажмите Enter чтобы выйти.\")"
      ],
      "metadata": {
        "id": "5r3acH10jUng",
        "outputId": "6e684dfc-d85b-459a-bd39-33f1b473fdbc",
        "colab": {
          "base_uri": "https://localhost:8080/",
          "height": 226
        }
      },
      "execution_count": 22,
      "outputs": [
        {
          "name": "stdout",
          "output_type": "stream",
          "text": [
            "1\n",
            "2\n",
            "3\n",
            "4\n",
            "6\n",
            "7\n",
            "8\n",
            "9\n",
            "10\n",
            "\n",
            "\\Нажмите Enter чтобы выйти.\n"
          ]
        },
        {
          "output_type": "execute_result",
          "data": {
            "text/plain": [
              "''"
            ],
            "application/vnd.google.colaboratory.intrinsic+json": {
              "type": "string"
            }
          },
          "metadata": {},
          "execution_count": 22
        }
      ]
    },
    {
      "cell_type": "markdown",
      "source": [
        "## Exclusive_Network.py"
      ],
      "metadata": {
        "id": "p5Hu3hnpkbtg"
      }
    },
    {
      "cell_type": "code",
      "source": [
        "# Эксклюзивная сеть\n",
        "# Демонстрирует составные условия и логические операторы\n",
        "\n",
        "print(\"\\tЭксклюзивная компьютерная сеть\")\n",
        "print(\"\\t\\tТолько для зарегистрированных пользователей!\\n\")\n",
        "\n",
        "security = 0\n",
        "\n",
        "username = \"\"\n",
        "while not username:\n",
        "    username = input(\"Логин: \")\n",
        "\n",
        "password = \"\"\n",
        "while not password:\n",
        "    password = input(\"Пароль: \")\n",
        "\n",
        "if username == \"M.Dawson\" and password == \"secret\":\n",
        "    print(\"Привет, Майк.\")\n",
        "    security = 5\n",
        "elif username == \"S.Meier\" and password == \"civilization\":\n",
        "    print(\"Здравствуй, Сид.\")\n",
        "    security = 3\n",
        "elif username == \"S.Miyamoto\" and password == \"mariobros\":\n",
        "    print(\"Доброго времени суток, Сигеру?\")\n",
        "    security = 3\n",
        "elif username == \"W.Wright\" and password == \"thesims\":\n",
        "    print(\"Как дела, Уилл?\")\n",
        "    security = 3\n",
        "elif username == \"guest\" or password == \"guest\":\n",
        "    print(\"Добро пожаловать к нам в гости.\")\n",
        "    security = 1\n",
        "else:\n",
        "    print(\"Войти в систему не удалось. Должно быть, вы не очень-то эксклюзивный гражданин.\\n\")\n",
        "\n",
        "input(\"\\n\\Нажмите Enter чтобы выйти.\")"
      ],
      "metadata": {
        "id": "Jf6Hxm7akgMw",
        "outputId": "1ea398d7-0a92-49e5-c447-79d9a9d2422d",
        "colab": {
          "base_uri": "https://localhost:8080/",
          "height": 192
        }
      },
      "execution_count": 27,
      "outputs": [
        {
          "name": "stdout",
          "output_type": "stream",
          "text": [
            "\tЭксклюзивная компьютерная сеть\n",
            "\t\tТолько для зарегистрированных пользователей!\n",
            "\n",
            "Логин: 5\n",
            "Пароль: 5\n",
            "Войти в систему не удалось. Должно быть, вы не очень-то эксклюзивный гражданин.\n",
            "\n",
            "\n",
            "\\Нажмите Enter чтобы выйти.\n"
          ]
        },
        {
          "output_type": "execute_result",
          "data": {
            "text/plain": [
              "''"
            ],
            "application/vnd.google.colaboratory.intrinsic+json": {
              "type": "string"
            }
          },
          "metadata": {},
          "execution_count": 27
        }
      ]
    },
    {
      "cell_type": "markdown",
      "source": [
        "Guess_My_Number.py"
      ],
      "metadata": {
        "id": "9SYMEWnjyLCd"
      }
    },
    {
      "cell_type": "code",
      "source": [
        "# Отгадай число\n",
        "#\n",
        "# Компьютер выбирает случайное число в диапазоне от 1 до 100\n",
        "# Игрок пытается отгадать это число, и компьютер говорит\n",
        "# предложение больше/меньше, чем загаданное число,\n",
        "# или попалов точку\n",
        "\n",
        "import random\n",
        "\n",
        "\n",
        "\n",
        "print(\"\\tДобро пожаловать в игру 'Отгадай число'!\")\n",
        "print(\"\\nЯ загадал натуральное число из диапазона от 1 до 100.\")\n",
        "print(\"Постарайтесь отгадать его за минимальное число попыток.\\n\")\n",
        "\n",
        "# начальные значения\n",
        "the_number = random.randint(1, 100)\n",
        "guess = int(input(\"Ваше предложение: \"))\n",
        "tries = 1\n",
        "\n",
        "# цикл отгадывания\n",
        "while guess != the_number:\n",
        "    if guess > the_number:\n",
        "        print(\"Меньше...\")\n",
        "    else:\n",
        "        print(\"Больше...\")\n",
        "\n",
        "    guess = int(input(\"Ваше предложение \"))\n",
        "    tries += 1\n",
        "\n",
        "print(\"Вам удалось отгадать число! Это в самомо деле\", the_number)\n",
        "print(\"Вы затратили на отгадывание всего лишь \", tries, \"попыток!\\n\")\n",
        "\n",
        "input(\"\\n\\Нажмите Enter чтобы выйти.\")"
      ],
      "metadata": {
        "id": "lruJoQykyVBV",
        "outputId": "36b1e674-fc22-4772-e306-86ee668bea6d",
        "colab": {
          "base_uri": "https://localhost:8080/",
          "height": 261
        }
      },
      "execution_count": 30,
      "outputs": [
        {
          "name": "stdout",
          "output_type": "stream",
          "text": [
            "\tДобро пожаловать в игру 'Отгадай число'!\n",
            "\n",
            "Я загадал натуральное число из диапазона от 1 до 100.\n",
            "Постарайтесь отгадать его за минимальное число попыток.\n",
            "\n",
            "Ваше предложение: 50\n",
            "Больше...\n",
            "Ваше предложение 75\n",
            "Вам удалось отгадать число! Это в самомо деле 75\n",
            "Вы затратили на отгадывание всего лишь  2 попыток!\n",
            "\n",
            "\n",
            "\\Нажмите Enter чтобы выйти.\n"
          ]
        },
        {
          "output_type": "execute_result",
          "data": {
            "text/plain": [
              "''"
            ],
            "application/vnd.google.colaboratory.intrinsic+json": {
              "type": "string"
            }
          },
          "metadata": {},
          "execution_count": 30
        }
      ]
    },
    {
      "cell_type": "markdown",
      "source": [
        "## Самостоятельные задачи"
      ],
      "metadata": {
        "id": "nn4u8WhHAHRC"
      }
    },
    {
      "cell_type": "markdown",
      "source": [
        "### Задача №1"
      ],
      "metadata": {
        "id": "0gIf0g9WAOR_"
      }
    },
    {
      "cell_type": "code",
      "source": [
        "# Глава 3, Задача 1\n",
        "# Генератор печенья с предсказаниями\n",
        "# Напишите программу, имитирующую печенье с предсказанием.\n",
        "# Программа должна случайным образом отображать одно из пяти уникальных состояний при каждом запуске.\n",
        "\n",
        "import random\n",
        "\n",
        "print(\"Этот генератор печенья с предсказаниями подскажет вам судьбу.\\n\")\n",
        "\n",
        "fortune = random.randint(1,5)\n",
        "\n",
        "fortune1 = \"Ты будешь голоден через час.\"\n",
        "fortune2 = \"Некоторые печенья с предсказаниями не содержат удачи.\"\n",
        "fortune3 = \"Вы научитесь пользоваться генератором случайных чисел.\"\n",
        "fortune4 = \"Если вы еще этого не сделали, вы съедите печенье с предсказанием..\"\n",
        "fortune5 = \"Вы будете по-настоящему счастливы всю оставшуюся жизнь.\"\n",
        "\n",
        "if fortune == 1:\n",
        "    print(fortune1)\n",
        "elif fortune == 2:\n",
        "    print(fortune2)\n",
        "elif fortune == 3:\n",
        "    print(fortune3)\n",
        "elif fortune == 4:\n",
        "    print(fortune4)\n",
        "else:\n",
        "    print(fortune5)\n",
        "\n",
        "input(\"\\n\\Нажмите Enter чтобы выйти.\")"
      ],
      "metadata": {
        "id": "6ApVuwEHAZtj",
        "outputId": "f9c8b722-6b88-4f9d-f175-1db404c6c1b4",
        "colab": {
          "base_uri": "https://localhost:8080/",
          "height": 122
        }
      },
      "execution_count": 33,
      "outputs": [
        {
          "name": "stdout",
          "output_type": "stream",
          "text": [
            "Этот генератор печенья с предсказаниями подскажет вам судьбу.\n",
            "\n",
            "Некоторые печенья с предсказаниями не содержат удачи.\n",
            "\n",
            "\\Нажмите Enter чтобы выйти.\n"
          ]
        },
        {
          "output_type": "execute_result",
          "data": {
            "text/plain": [
              "''"
            ],
            "application/vnd.google.colaboratory.intrinsic+json": {
              "type": "string"
            }
          },
          "metadata": {},
          "execution_count": 33
        }
      ]
    },
    {
      "cell_type": "markdown",
      "source": [
        "### Задача №2"
      ],
      "metadata": {
        "id": "WU61_8AXATtA"
      }
    },
    {
      "cell_type": "code",
      "source": [
        "# Глава 3, Задача 2\n",
        "# Программа «Подбрось монетку»\n",
        "# Напишите программу, которая подбрасывает монету 100 раз, а затем сообщает вам количество выпавших орла и решки.\n",
        "\n",
        "import random\n",
        "\n",
        "count = 0\n",
        "heads = 0\n",
        "tails = 0\n",
        "\n",
        "while count != 100:\n",
        "    count += 1\n",
        "    flip = random.randint(1,2)\n",
        "    if flip == 1:\n",
        "        heads += 1\n",
        "    else:\n",
        "        tails += 1\n",
        "\n",
        "print(\"Орел выпал: \", heads)\n",
        "print(\"Решка выпала: \", tails)\n",
        "\n",
        "input(\"\\n\\Нажмите Enter чтобы выйти.\")"
      ],
      "metadata": {
        "id": "CaU6G_oRAeFo",
        "outputId": "a93e1b6a-ccc5-42ed-f3d0-e68715879c20",
        "colab": {
          "base_uri": "https://localhost:8080/",
          "height": 105
        }
      },
      "execution_count": 37,
      "outputs": [
        {
          "name": "stdout",
          "output_type": "stream",
          "text": [
            "Орел выпал:  51\n",
            "Решка выпала:  49\n",
            "\n",
            "\\Нажмите Enter чтобы выйти.\n"
          ]
        },
        {
          "output_type": "execute_result",
          "data": {
            "text/plain": [
              "''"
            ],
            "application/vnd.google.colaboratory.intrinsic+json": {
              "type": "string"
            }
          },
          "metadata": {},
          "execution_count": 37
        }
      ]
    },
    {
      "cell_type": "markdown",
      "source": [
        "### Задача №3"
      ],
      "metadata": {
        "id": "TGDL6mt8AVUQ"
      }
    },
    {
      "cell_type": "code",
      "source": [
        "# Глава 3, Задача 3\n",
        "# Угадай мой номер с фиксированным количеством попыток\n",
        "# Измените игру «Угадай мой номер», чтобы у игрока было ограниченное количество попыток.\n",
        "# Если игроку не удается угадать вовремя, программа должна отобразить соответствующее наказывающее сообщение.\n",
        "\n",
        "import random\n",
        "\n",
        "print(\"\\tДобро пожаловать в игру «Угадай мой номер за 8 попыток»!\")\n",
        "print(\"\\nЯ задумал число от 1 до 100.\")\n",
        "print(\"Постарайтесь угадать его за как можно меньшее количество попыток.\")\n",
        "print(\"У вас есть 8 попыток, чтобы сделать это правильно!\\n\")\n",
        "\n",
        "# установить начальные значения\n",
        "the_number = random.randint(1, 100)\n",
        "guess = int(input(\"Take a guess: \"))\n",
        "tries = 1\n",
        "\n",
        "# цикл угадывания\n",
        "while guess != the_number and tries < 8:\n",
        "    if guess == the_number:\n",
        "        break\n",
        "    print(\"Это попытка,\", tries, \", осталось \", 8 - tries, \" попыток\")\n",
        "    if guess > the_number:\n",
        "        print(\"Меньше...\\n\")\n",
        "    else:\n",
        "        print(\"Больше...\\n\")\n",
        "    tries += 1\n",
        "    guess = int(input(\"Ваше предложение \"))\n",
        "\n",
        "if guess == the_number:\n",
        "    print(\"Вам удалось отгадать число! Это в самомо деле\", the_number)\n",
        "    print(\"Вы затратили на отгадывание всего лишь \", tries, \"попыток!\\n\")\n",
        "else:\n",
        "    print(\"У тебя закончились попытки, ты отстой!\")\n",
        "    print(\"Число было \", the_number)\n",
        "\n",
        "input(\"\\n\\Нажмите Enter чтобы выйти.\")"
      ],
      "metadata": {
        "id": "C36mnICtAiyA",
        "outputId": "b87bc188-9fe4-44b6-baab-09e8a83cda23",
        "colab": {
          "base_uri": "https://localhost:8080/",
          "height": 712
        }
      },
      "execution_count": 41,
      "outputs": [
        {
          "name": "stdout",
          "output_type": "stream",
          "text": [
            "\tДобро пожаловать в игру «Угадай мой номер за 8 попыток»!\n",
            "\n",
            "Я задумал число от 1 до 100.\n",
            "Постарайтесь угадать его за как можно меньшее количество попыток.\n",
            "У вас есть 8 попыток, чтобы сделать это правильно!\n",
            "\n",
            "Take a guess: 50\n",
            "Это попытка, 1 , осталось  7  попыток\n",
            "Меньше...\n",
            "\n",
            "Ваше предложение 51\n",
            "Это попытка, 2 , осталось  6  попыток\n",
            "Меньше...\n",
            "\n",
            "Ваше предложение 52\n",
            "Это попытка, 3 , осталось  5  попыток\n",
            "Меньше...\n",
            "\n",
            "Ваше предложение 53\n",
            "Это попытка, 4 , осталось  4  попыток\n",
            "Меньше...\n",
            "\n",
            "Ваше предложение 54\n",
            "Это попытка, 5 , осталось  3  попыток\n",
            "Меньше...\n",
            "\n",
            "Ваше предложение 55\n",
            "Это попытка, 6 , осталось  2  попыток\n",
            "Меньше...\n",
            "\n",
            "Ваше предложение 56\n",
            "Это попытка, 7 , осталось  1  попыток\n",
            "Меньше...\n",
            "\n",
            "Ваше предложение 57\n",
            "У тебя закончились попытки, ты отстой!\n",
            "Число было  48\n",
            "\n",
            "\\Нажмите Enter чтобы выйти.\n"
          ]
        },
        {
          "output_type": "execute_result",
          "data": {
            "text/plain": [
              "''"
            ],
            "application/vnd.google.colaboratory.intrinsic+json": {
              "type": "string"
            }
          },
          "metadata": {},
          "execution_count": 41
        }
      ]
    },
    {
      "cell_type": "markdown",
      "source": [
        "### Задача №4"
      ],
      "metadata": {
        "id": "M3DFBT25AXQo"
      }
    },
    {
      "cell_type": "code",
      "source": [
        "# Глава 3, Задача 4\n",
        "# Компьютерная игра «Угадай число»\n",
        "# Напишите псевдокод программы, в которой игрок и компьютер меняются местами в игре по угадыванию чисел.\n",
        "# То есть игрок выбирает случайное число от 1 до 100, которое компьютер должен угадать.\n",
        "# Прежде чем начать, подумайте, как вы угадаете.\n",
        "# Если все пойдет хорошо, попробуйте закодировать игру..\n",
        "\n",
        "# Псевдокод\n",
        "# Компьютер спрашивает, между какими числами угадать\n",
        "# Пока компьютер не угадал правильно\n",
        "    # Компьютер угадывает число между этими числами\n",
        "    # Игрок сообщает компьютеру, правильно ли он угадал.\n",
        "        # Если угадаешь правильно, компьютер отмечает это и останавливает программу.\n",
        "    # Игрок сообщает компьютеру, больше или меньше число.\n",
        "    # Компьютер соответствующим образом меняет диапазон своих предположений.\n",
        "\n",
        "import random\n",
        "\n",
        "high = int(input(\"Какое наибольшее число я должен угадать?? \"))\n",
        "low = int(input(\"Какое наименьшее число я должен угадать?? \"))\n",
        "\n",
        "# хотя предположение неверно:\n",
        "guessed_incorrectly = True\n",
        "\n",
        "while guessed_incorrectly:\n",
        "# редактировать верхний и нижний пределы генерации случайных чисел.\n",
        "    guess = random.randint(low, high)\n",
        "    print(\"\\nЯ думаю, \", guess)\n",
        "    is_comp_correct = input(\"\\nМой номер правильный? Да или Нет? \")\n",
        "    if is_comp_correct.title() == 'Да':\n",
        "        print(\"Эй! Я понял это правильно!\")\n",
        "        guessed_incorrectly = False\n",
        "    else:\n",
        "        hORl = input(\"Должен ли я угадать выше или ниже? Выше или Ниже? \")\n",
        "        if hORl.title() == 'В' or hORl.title() == 'Выше':\n",
        "            low = guess + 1\n",
        "        elif hORl.title() == 'Н' or hORl.title() == 'Ниже':\n",
        "            high = guess - 1\n",
        "\n",
        "input(\"\\n\\Нажмите Enter чтобы выйти.\")"
      ],
      "metadata": {
        "id": "PZ9KceMkAzMQ",
        "outputId": "8af9a09c-caaf-4a0a-8122-0ce884f96e3c",
        "colab": {
          "base_uri": "https://localhost:8080/",
          "height": 799
        }
      },
      "execution_count": 42,
      "outputs": [
        {
          "name": "stdout",
          "output_type": "stream",
          "text": [
            "Какое наибольшее число я должен угадать?? 100\n",
            "Какое наименьшее число я должен угадать?? 1\n",
            "\n",
            "Я думаю,  32\n",
            "\n",
            "Мой номер правильный? Да или Нет? Нет\n",
            "Должен ли я угадать выше или ниже? Выше или Ниже? В\n",
            "\n",
            "Я думаю,  70\n",
            "\n",
            "Мой номер правильный? Да или Нет? Нет\n",
            "Должен ли я угадать выше или ниже? Выше или Ниже? Н\n",
            "\n",
            "Я думаю,  41\n",
            "\n",
            "Мой номер правильный? Да или Нет? Нет\n",
            "Должен ли я угадать выше или ниже? Выше или Ниже? Выше\n",
            "\n",
            "Я думаю,  58\n",
            "\n",
            "Мой номер правильный? Да или Нет? Нет\n",
            "Должен ли я угадать выше или ниже? Выше или Ниже? Ниже\n",
            "\n",
            "Я думаю,  51\n",
            "\n",
            "Мой номер правильный? Да или Нет? Нет\n",
            "Должен ли я угадать выше или ниже? Выше или Ниже? Ниже\n",
            "\n",
            "Я думаю,  42\n",
            "\n",
            "Мой номер правильный? Да или Нет? Нет\n",
            "Должен ли я угадать выше или ниже? Выше или Ниже? Выше\n",
            "\n",
            "Я думаю,  44\n",
            "\n",
            "Мой номер правильный? Да или Нет? Нет\n",
            "Должен ли я угадать выше или ниже? Выше или Ниже? В\n",
            "\n",
            "Я думаю,  50\n",
            "\n",
            "Мой номер правильный? Да или Нет? Да\n",
            "Эй! Я понял это правильно!\n",
            "\n",
            "\\Нажмите Enter чтобы выйти.\n"
          ]
        },
        {
          "output_type": "execute_result",
          "data": {
            "text/plain": [
              "''"
            ],
            "application/vnd.google.colaboratory.intrinsic+json": {
              "type": "string"
            }
          },
          "metadata": {},
          "execution_count": 42
        }
      ]
    }
  ]
}